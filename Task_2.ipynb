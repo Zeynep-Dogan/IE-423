{
  "cells": [
    {
      "cell_type": "markdown",
      "metadata": {
        "id": "view-in-github",
        "colab_type": "text"
      },
      "source": [
        "<a href=\"https://colab.research.google.com/github/Zeynep-Dogan/IE-423/blob/main/Task_2.ipynb\" target=\"_parent\"><img src=\"https://colab.research.google.com/assets/colab-badge.svg\" alt=\"Open In Colab\"/></a>"
      ]
    },
    {
      "cell_type": "markdown",
      "metadata": {
        "id": "1ze_EO-F6s7t"
      },
      "source": [
        "## <font color='#475468'> Football Players: </font>\n",
        "### <font color='#475468'> Can you predict current value of football players based on their player information?\n",
        "With different models by showing which one is better. </font>"
      ]
    },
    {
      "cell_type": "markdown",
      "metadata": {
        "id": "LLhyCHzC6s7v"
      },
      "source": [
        "## Initialize"
      ]
    },
    {
      "cell_type": "code",
      "execution_count": null,
      "metadata": {
        "id": "RfUurqwu6s7v"
      },
      "outputs": [],
      "source": [
        "import pandas as pd\n",
        "import numpy as np"
      ]
    },
    {
      "cell_type": "markdown",
      "metadata": {
        "id": "k71UeYhg6s7x"
      },
      "source": [
        "## Load Data"
      ]
    },
    {
      "cell_type": "code",
      "source": [
        "from google.colab import drive\n",
        "drive.mount('/content/drive')"
      ],
      "metadata": {
        "colab": {
          "base_uri": "https://localhost:8080/"
        },
        "id": "eItHcjT81JxW",
        "outputId": "a7d22ae5-db7a-4120-d24c-b12469c90221"
      },
      "execution_count": null,
      "outputs": [
        {
          "output_type": "stream",
          "name": "stdout",
          "text": [
            "Mounted at /content/drive\n"
          ]
        }
      ]
    },
    {
      "cell_type": "code",
      "execution_count": null,
      "metadata": {
        "id": "pv0wDCJ46s7x"
      },
      "outputs": [],
      "source": [
        "dfplayers = pd.read_csv('/content/drive/MyDrive/ie 423/task1-2_data.csv')"
      ]
    },
    {
      "cell_type": "code",
      "execution_count": null,
      "metadata": {
        "colab": {
          "base_uri": "https://localhost:8080/"
        },
        "id": "k0lHZjTs6s7y",
        "outputId": "2b983b9a-3a10-4b46-8d2f-e93062f18e1f"
      },
      "outputs": [
        {
          "output_type": "execute_result",
          "data": {
            "text/plain": [
              "Index(['player', 'team', 'name', 'position', 'height', 'age', 'appearance',\n",
              "       'goals', 'assists', 'yellow cards', 'second yellow cards', 'red cards',\n",
              "       'goals conceded', 'clean sheets', 'minutes played', 'days_injured',\n",
              "       'games_injured', 'award', 'current_value', 'highest_value',\n",
              "       'position_encoded', 'winger'],\n",
              "      dtype='object')"
            ]
          },
          "metadata": {},
          "execution_count": 6
        }
      ],
      "source": [
        "dfplayers.columns"
      ]
    },
    {
      "cell_type": "markdown",
      "metadata": {
        "id": "KPeEfOOJ6s70"
      },
      "source": [
        "## Select Data"
      ]
    },
    {
      "cell_type": "markdown",
      "metadata": {
        "id": "fCSJXsMP6s70"
      },
      "source": [
        "### Select a prediction \"Target\"\n",
        "The column we want to predict is called the prediction **target**. By convention, the prediction target is called y. In our case, we want to predict the current value of the player."
      ]
    },
    {
      "cell_type": "code",
      "execution_count": null,
      "metadata": {
        "id": "rb_UIHDO6s71"
      },
      "outputs": [],
      "source": [
        "y = dfplayers.loc[:,['current_value']]"
      ]
    },
    {
      "cell_type": "markdown",
      "metadata": {
        "id": "5TJb0s456s71"
      },
      "source": [
        "### Choose \"Features\"\n",
        "The columns that are input into our model (and later used to make predictions) are called **features**. In our case, those would be the columns used to determine the players' current price."
      ]
    },
    {
      "cell_type": "code",
      "execution_count": null,
      "metadata": {
        "id": "VefHyw7_6s72"
      },
      "outputs": [],
      "source": [
        "X = dfplayers.iloc[:,4:22].drop(['current_value'], axis=1)"
      ]
    },
    {
      "cell_type": "code",
      "execution_count": null,
      "metadata": {
        "colab": {
          "base_uri": "https://localhost:8080/",
          "height": 261
        },
        "id": "mKqLP5ZE6s72",
        "outputId": "e3221a03-d8b1-46b4-a66a-e446033a3292"
      },
      "outputs": [
        {
          "output_type": "execute_result",
          "data": {
            "text/plain": [
              "   height   age  appearance     goals   assists  yellow cards  \\\n",
              "0   189.0  32.0         104  0.000000  0.000000      0.009585   \n",
              "1   196.0  30.0          15  0.000000  0.000000      0.069018   \n",
              "2   188.0  37.0           4  0.000000  0.000000      0.000000   \n",
              "3   175.0  25.0          82  0.028090  0.056180      0.224719   \n",
              "4   191.0  30.0          63  0.017889  0.017889      0.053667   \n",
              "\n",
              "   second yellow cards  red cards  goals conceded  clean sheets  \\\n",
              "0                  0.0        0.0        1.217252      0.335463   \n",
              "1                  0.0        0.0        1.242331      0.207055   \n",
              "2                  0.0        0.0        0.616438      0.924658   \n",
              "3                  0.0        0.0        0.000000      0.000000   \n",
              "4                  0.0        0.0        0.000000      0.000000   \n",
              "\n",
              "   minutes played  days_injured  games_injured  award  highest_value  \\\n",
              "0            9390            42              5     13       70000000   \n",
              "1            1304           510             58      1       22000000   \n",
              "2             292           697             84      4        6000000   \n",
              "3            6408           175             22      9       50000000   \n",
              "4            5031           238             51     21       80000000   \n",
              "\n",
              "   position_encoded  winger  \n",
              "0                 1       0  \n",
              "1                 1       0  \n",
              "2                 1       0  \n",
              "3                 2       0  \n",
              "4                 2       0  "
            ],
            "text/html": [
              "\n",
              "  <div id=\"df-b9a82d28-aa33-43a4-9259-a1f90693603f\" class=\"colab-df-container\">\n",
              "    <div>\n",
              "<style scoped>\n",
              "    .dataframe tbody tr th:only-of-type {\n",
              "        vertical-align: middle;\n",
              "    }\n",
              "\n",
              "    .dataframe tbody tr th {\n",
              "        vertical-align: top;\n",
              "    }\n",
              "\n",
              "    .dataframe thead th {\n",
              "        text-align: right;\n",
              "    }\n",
              "</style>\n",
              "<table border=\"1\" class=\"dataframe\">\n",
              "  <thead>\n",
              "    <tr style=\"text-align: right;\">\n",
              "      <th></th>\n",
              "      <th>height</th>\n",
              "      <th>age</th>\n",
              "      <th>appearance</th>\n",
              "      <th>goals</th>\n",
              "      <th>assists</th>\n",
              "      <th>yellow cards</th>\n",
              "      <th>second yellow cards</th>\n",
              "      <th>red cards</th>\n",
              "      <th>goals conceded</th>\n",
              "      <th>clean sheets</th>\n",
              "      <th>minutes played</th>\n",
              "      <th>days_injured</th>\n",
              "      <th>games_injured</th>\n",
              "      <th>award</th>\n",
              "      <th>highest_value</th>\n",
              "      <th>position_encoded</th>\n",
              "      <th>winger</th>\n",
              "    </tr>\n",
              "  </thead>\n",
              "  <tbody>\n",
              "    <tr>\n",
              "      <th>0</th>\n",
              "      <td>189.0</td>\n",
              "      <td>32.0</td>\n",
              "      <td>104</td>\n",
              "      <td>0.000000</td>\n",
              "      <td>0.000000</td>\n",
              "      <td>0.009585</td>\n",
              "      <td>0.0</td>\n",
              "      <td>0.0</td>\n",
              "      <td>1.217252</td>\n",
              "      <td>0.335463</td>\n",
              "      <td>9390</td>\n",
              "      <td>42</td>\n",
              "      <td>5</td>\n",
              "      <td>13</td>\n",
              "      <td>70000000</td>\n",
              "      <td>1</td>\n",
              "      <td>0</td>\n",
              "    </tr>\n",
              "    <tr>\n",
              "      <th>1</th>\n",
              "      <td>196.0</td>\n",
              "      <td>30.0</td>\n",
              "      <td>15</td>\n",
              "      <td>0.000000</td>\n",
              "      <td>0.000000</td>\n",
              "      <td>0.069018</td>\n",
              "      <td>0.0</td>\n",
              "      <td>0.0</td>\n",
              "      <td>1.242331</td>\n",
              "      <td>0.207055</td>\n",
              "      <td>1304</td>\n",
              "      <td>510</td>\n",
              "      <td>58</td>\n",
              "      <td>1</td>\n",
              "      <td>22000000</td>\n",
              "      <td>1</td>\n",
              "      <td>0</td>\n",
              "    </tr>\n",
              "    <tr>\n",
              "      <th>2</th>\n",
              "      <td>188.0</td>\n",
              "      <td>37.0</td>\n",
              "      <td>4</td>\n",
              "      <td>0.000000</td>\n",
              "      <td>0.000000</td>\n",
              "      <td>0.000000</td>\n",
              "      <td>0.0</td>\n",
              "      <td>0.0</td>\n",
              "      <td>0.616438</td>\n",
              "      <td>0.924658</td>\n",
              "      <td>292</td>\n",
              "      <td>697</td>\n",
              "      <td>84</td>\n",
              "      <td>4</td>\n",
              "      <td>6000000</td>\n",
              "      <td>1</td>\n",
              "      <td>0</td>\n",
              "    </tr>\n",
              "    <tr>\n",
              "      <th>3</th>\n",
              "      <td>175.0</td>\n",
              "      <td>25.0</td>\n",
              "      <td>82</td>\n",
              "      <td>0.028090</td>\n",
              "      <td>0.056180</td>\n",
              "      <td>0.224719</td>\n",
              "      <td>0.0</td>\n",
              "      <td>0.0</td>\n",
              "      <td>0.000000</td>\n",
              "      <td>0.000000</td>\n",
              "      <td>6408</td>\n",
              "      <td>175</td>\n",
              "      <td>22</td>\n",
              "      <td>9</td>\n",
              "      <td>50000000</td>\n",
              "      <td>2</td>\n",
              "      <td>0</td>\n",
              "    </tr>\n",
              "    <tr>\n",
              "      <th>4</th>\n",
              "      <td>191.0</td>\n",
              "      <td>30.0</td>\n",
              "      <td>63</td>\n",
              "      <td>0.017889</td>\n",
              "      <td>0.017889</td>\n",
              "      <td>0.053667</td>\n",
              "      <td>0.0</td>\n",
              "      <td>0.0</td>\n",
              "      <td>0.000000</td>\n",
              "      <td>0.000000</td>\n",
              "      <td>5031</td>\n",
              "      <td>238</td>\n",
              "      <td>51</td>\n",
              "      <td>21</td>\n",
              "      <td>80000000</td>\n",
              "      <td>2</td>\n",
              "      <td>0</td>\n",
              "    </tr>\n",
              "  </tbody>\n",
              "</table>\n",
              "</div>\n",
              "    <div class=\"colab-df-buttons\">\n",
              "\n",
              "  <div class=\"colab-df-container\">\n",
              "    <button class=\"colab-df-convert\" onclick=\"convertToInteractive('df-b9a82d28-aa33-43a4-9259-a1f90693603f')\"\n",
              "            title=\"Convert this dataframe to an interactive table.\"\n",
              "            style=\"display:none;\">\n",
              "\n",
              "  <svg xmlns=\"http://www.w3.org/2000/svg\" height=\"24px\" viewBox=\"0 -960 960 960\">\n",
              "    <path d=\"M120-120v-720h720v720H120Zm60-500h600v-160H180v160Zm220 220h160v-160H400v160Zm0 220h160v-160H400v160ZM180-400h160v-160H180v160Zm440 0h160v-160H620v160ZM180-180h160v-160H180v160Zm440 0h160v-160H620v160Z\"/>\n",
              "  </svg>\n",
              "    </button>\n",
              "\n",
              "  <style>\n",
              "    .colab-df-container {\n",
              "      display:flex;\n",
              "      gap: 12px;\n",
              "    }\n",
              "\n",
              "    .colab-df-convert {\n",
              "      background-color: #E8F0FE;\n",
              "      border: none;\n",
              "      border-radius: 50%;\n",
              "      cursor: pointer;\n",
              "      display: none;\n",
              "      fill: #1967D2;\n",
              "      height: 32px;\n",
              "      padding: 0 0 0 0;\n",
              "      width: 32px;\n",
              "    }\n",
              "\n",
              "    .colab-df-convert:hover {\n",
              "      background-color: #E2EBFA;\n",
              "      box-shadow: 0px 1px 2px rgba(60, 64, 67, 0.3), 0px 1px 3px 1px rgba(60, 64, 67, 0.15);\n",
              "      fill: #174EA6;\n",
              "    }\n",
              "\n",
              "    .colab-df-buttons div {\n",
              "      margin-bottom: 4px;\n",
              "    }\n",
              "\n",
              "    [theme=dark] .colab-df-convert {\n",
              "      background-color: #3B4455;\n",
              "      fill: #D2E3FC;\n",
              "    }\n",
              "\n",
              "    [theme=dark] .colab-df-convert:hover {\n",
              "      background-color: #434B5C;\n",
              "      box-shadow: 0px 1px 3px 1px rgba(0, 0, 0, 0.15);\n",
              "      filter: drop-shadow(0px 1px 2px rgba(0, 0, 0, 0.3));\n",
              "      fill: #FFFFFF;\n",
              "    }\n",
              "  </style>\n",
              "\n",
              "    <script>\n",
              "      const buttonEl =\n",
              "        document.querySelector('#df-b9a82d28-aa33-43a4-9259-a1f90693603f button.colab-df-convert');\n",
              "      buttonEl.style.display =\n",
              "        google.colab.kernel.accessAllowed ? 'block' : 'none';\n",
              "\n",
              "      async function convertToInteractive(key) {\n",
              "        const element = document.querySelector('#df-b9a82d28-aa33-43a4-9259-a1f90693603f');\n",
              "        const dataTable =\n",
              "          await google.colab.kernel.invokeFunction('convertToInteractive',\n",
              "                                                    [key], {});\n",
              "        if (!dataTable) return;\n",
              "\n",
              "        const docLinkHtml = 'Like what you see? Visit the ' +\n",
              "          '<a target=\"_blank\" href=https://colab.research.google.com/notebooks/data_table.ipynb>data table notebook</a>'\n",
              "          + ' to learn more about interactive tables.';\n",
              "        element.innerHTML = '';\n",
              "        dataTable['output_type'] = 'display_data';\n",
              "        await google.colab.output.renderOutput(dataTable, element);\n",
              "        const docLink = document.createElement('div');\n",
              "        docLink.innerHTML = docLinkHtml;\n",
              "        element.appendChild(docLink);\n",
              "      }\n",
              "    </script>\n",
              "  </div>\n",
              "\n",
              "\n",
              "<div id=\"df-f18a34ac-0e20-4a47-8ac0-d3099d999449\">\n",
              "  <button class=\"colab-df-quickchart\" onclick=\"quickchart('df-f18a34ac-0e20-4a47-8ac0-d3099d999449')\"\n",
              "            title=\"Suggest charts\"\n",
              "            style=\"display:none;\">\n",
              "\n",
              "<svg xmlns=\"http://www.w3.org/2000/svg\" height=\"24px\"viewBox=\"0 0 24 24\"\n",
              "     width=\"24px\">\n",
              "    <g>\n",
              "        <path d=\"M19 3H5c-1.1 0-2 .9-2 2v14c0 1.1.9 2 2 2h14c1.1 0 2-.9 2-2V5c0-1.1-.9-2-2-2zM9 17H7v-7h2v7zm4 0h-2V7h2v10zm4 0h-2v-4h2v4z\"/>\n",
              "    </g>\n",
              "</svg>\n",
              "  </button>\n",
              "\n",
              "<style>\n",
              "  .colab-df-quickchart {\n",
              "      --bg-color: #E8F0FE;\n",
              "      --fill-color: #1967D2;\n",
              "      --hover-bg-color: #E2EBFA;\n",
              "      --hover-fill-color: #174EA6;\n",
              "      --disabled-fill-color: #AAA;\n",
              "      --disabled-bg-color: #DDD;\n",
              "  }\n",
              "\n",
              "  [theme=dark] .colab-df-quickchart {\n",
              "      --bg-color: #3B4455;\n",
              "      --fill-color: #D2E3FC;\n",
              "      --hover-bg-color: #434B5C;\n",
              "      --hover-fill-color: #FFFFFF;\n",
              "      --disabled-bg-color: #3B4455;\n",
              "      --disabled-fill-color: #666;\n",
              "  }\n",
              "\n",
              "  .colab-df-quickchart {\n",
              "    background-color: var(--bg-color);\n",
              "    border: none;\n",
              "    border-radius: 50%;\n",
              "    cursor: pointer;\n",
              "    display: none;\n",
              "    fill: var(--fill-color);\n",
              "    height: 32px;\n",
              "    padding: 0;\n",
              "    width: 32px;\n",
              "  }\n",
              "\n",
              "  .colab-df-quickchart:hover {\n",
              "    background-color: var(--hover-bg-color);\n",
              "    box-shadow: 0 1px 2px rgba(60, 64, 67, 0.3), 0 1px 3px 1px rgba(60, 64, 67, 0.15);\n",
              "    fill: var(--button-hover-fill-color);\n",
              "  }\n",
              "\n",
              "  .colab-df-quickchart-complete:disabled,\n",
              "  .colab-df-quickchart-complete:disabled:hover {\n",
              "    background-color: var(--disabled-bg-color);\n",
              "    fill: var(--disabled-fill-color);\n",
              "    box-shadow: none;\n",
              "  }\n",
              "\n",
              "  .colab-df-spinner {\n",
              "    border: 2px solid var(--fill-color);\n",
              "    border-color: transparent;\n",
              "    border-bottom-color: var(--fill-color);\n",
              "    animation:\n",
              "      spin 1s steps(1) infinite;\n",
              "  }\n",
              "\n",
              "  @keyframes spin {\n",
              "    0% {\n",
              "      border-color: transparent;\n",
              "      border-bottom-color: var(--fill-color);\n",
              "      border-left-color: var(--fill-color);\n",
              "    }\n",
              "    20% {\n",
              "      border-color: transparent;\n",
              "      border-left-color: var(--fill-color);\n",
              "      border-top-color: var(--fill-color);\n",
              "    }\n",
              "    30% {\n",
              "      border-color: transparent;\n",
              "      border-left-color: var(--fill-color);\n",
              "      border-top-color: var(--fill-color);\n",
              "      border-right-color: var(--fill-color);\n",
              "    }\n",
              "    40% {\n",
              "      border-color: transparent;\n",
              "      border-right-color: var(--fill-color);\n",
              "      border-top-color: var(--fill-color);\n",
              "    }\n",
              "    60% {\n",
              "      border-color: transparent;\n",
              "      border-right-color: var(--fill-color);\n",
              "    }\n",
              "    80% {\n",
              "      border-color: transparent;\n",
              "      border-right-color: var(--fill-color);\n",
              "      border-bottom-color: var(--fill-color);\n",
              "    }\n",
              "    90% {\n",
              "      border-color: transparent;\n",
              "      border-bottom-color: var(--fill-color);\n",
              "    }\n",
              "  }\n",
              "</style>\n",
              "\n",
              "  <script>\n",
              "    async function quickchart(key) {\n",
              "      const quickchartButtonEl =\n",
              "        document.querySelector('#' + key + ' button');\n",
              "      quickchartButtonEl.disabled = true;  // To prevent multiple clicks.\n",
              "      quickchartButtonEl.classList.add('colab-df-spinner');\n",
              "      try {\n",
              "        const charts = await google.colab.kernel.invokeFunction(\n",
              "            'suggestCharts', [key], {});\n",
              "      } catch (error) {\n",
              "        console.error('Error during call to suggestCharts:', error);\n",
              "      }\n",
              "      quickchartButtonEl.classList.remove('colab-df-spinner');\n",
              "      quickchartButtonEl.classList.add('colab-df-quickchart-complete');\n",
              "    }\n",
              "    (() => {\n",
              "      let quickchartButtonEl =\n",
              "        document.querySelector('#df-f18a34ac-0e20-4a47-8ac0-d3099d999449 button');\n",
              "      quickchartButtonEl.style.display =\n",
              "        google.colab.kernel.accessAllowed ? 'block' : 'none';\n",
              "    })();\n",
              "  </script>\n",
              "</div>\n",
              "\n",
              "    </div>\n",
              "  </div>\n"
            ],
            "application/vnd.google.colaboratory.intrinsic+json": {
              "type": "dataframe",
              "variable_name": "X",
              "summary": "{\n  \"name\": \"X\",\n  \"rows\": 10754,\n  \"fields\": [\n    {\n      \"column\": \"height\",\n      \"properties\": {\n        \"dtype\": \"number\",\n        \"std\": 6.969818188670933,\n        \"min\": 156.0,\n        \"max\": 206.0,\n        \"num_unique_values\": 47,\n        \"samples\": [\n          198.0,\n          164.0,\n          167.0\n        ],\n        \"semantic_type\": \"\",\n        \"description\": \"\"\n      }\n    },\n    {\n      \"column\": \"age\",\n      \"properties\": {\n        \"dtype\": \"number\",\n        \"std\": 4.777628742246696,\n        \"min\": 15.0,\n        \"max\": 43.0,\n        \"num_unique_values\": 30,\n        \"samples\": [\n          15.0,\n          38.0,\n          17.0\n        ],\n        \"semantic_type\": \"\",\n        \"description\": \"\"\n      }\n    },\n    {\n      \"column\": \"appearance\",\n      \"properties\": {\n        \"dtype\": \"number\",\n        \"std\": 26,\n        \"min\": 0,\n        \"max\": 107,\n        \"num_unique_values\": 108,\n        \"samples\": [\n          14,\n          89,\n          63\n        ],\n        \"semantic_type\": \"\",\n        \"description\": \"\"\n      }\n    },\n    {\n      \"column\": \"goals\",\n      \"properties\": {\n        \"dtype\": \"number\",\n        \"std\": 0.2355851495496577,\n        \"min\": 0.0,\n        \"max\": 11.25,\n        \"num_unique_values\": 5329,\n        \"samples\": [\n          0.057933698,\n          0.058737151,\n          0.745394831\n        ],\n        \"semantic_type\": \"\",\n        \"description\": \"\"\n      }\n    },\n    {\n      \"column\": \"assists\",\n      \"properties\": {\n        \"dtype\": \"number\",\n        \"std\": 0.14335133241006232,\n        \"min\": 0.0,\n        \"max\": 4.0,\n        \"num_unique_values\": 5065,\n        \"samples\": [\n          0.084014002,\n          0.077087794,\n          0.192610948\n        ],\n        \"semantic_type\": \"\",\n        \"description\": \"\"\n      }\n    },\n    {\n      \"column\": \"yellow cards\",\n      \"properties\": {\n        \"dtype\": \"number\",\n        \"std\": 0.4323879163825807,\n        \"min\": 0.0,\n        \"max\": 30.0,\n        \"num_unique_values\": 6291,\n        \"samples\": [\n          0.125896136,\n          0.141021623,\n          0.086372361\n        ],\n        \"semantic_type\": \"\",\n        \"description\": \"\"\n      }\n    },\n    {\n      \"column\": \"second yellow cards\",\n      \"properties\": {\n        \"dtype\": \"number\",\n        \"std\": 0.02523200326775313,\n        \"min\": 0.0,\n        \"max\": 1.0,\n        \"num_unique_values\": 1095,\n        \"samples\": [\n          0.041714948,\n          0.020188425,\n          0.02239363\n        ],\n        \"semantic_type\": \"\",\n        \"description\": \"\"\n      }\n    },\n    {\n      \"column\": \"red cards\",\n      \"properties\": {\n        \"dtype\": \"number\",\n        \"std\": 0.08114266117203013,\n        \"min\": 0.0,\n        \"max\": 6.923076923,\n        \"num_unique_values\": 1219,\n        \"samples\": [\n          0.047821467,\n          0.5,\n          0.029435814\n        ],\n        \"semantic_type\": \"\",\n        \"description\": \"\"\n      }\n    },\n    {\n      \"column\": \"goals conceded\",\n      \"properties\": {\n        \"dtype\": \"number\",\n        \"std\": 0.4423354678940124,\n        \"min\": 0.0,\n        \"max\": 9.0,\n        \"num_unique_values\": 742,\n        \"samples\": [\n          1.3,\n          1.168831169,\n          1.896551724\n        ],\n        \"semantic_type\": \"\",\n        \"description\": \"\"\n      }\n    },\n    {\n      \"column\": \"clean sheets\",\n      \"properties\": {\n        \"dtype\": \"number\",\n        \"std\": 0.9244373006929671,\n        \"min\": 0.0,\n        \"max\": 90.0,\n        \"num_unique_values\": 635,\n        \"samples\": [\n          0.550458716,\n          0.133333333,\n          0.194244604\n        ],\n        \"semantic_type\": \"\",\n        \"description\": \"\"\n      }\n    },\n    {\n      \"column\": \"minutes played\",\n      \"properties\": {\n        \"dtype\": \"number\",\n        \"std\": 2021,\n        \"min\": 0,\n        \"max\": 9510,\n        \"num_unique_values\": 5036,\n        \"samples\": [\n          2288,\n          1938,\n          741\n        ],\n        \"semantic_type\": \"\",\n        \"description\": \"\"\n      }\n    },\n    {\n      \"column\": \"days_injured\",\n      \"properties\": {\n        \"dtype\": \"number\",\n        \"std\": 175,\n        \"min\": 0,\n        \"max\": 2349,\n        \"num_unique_values\": 772,\n        \"samples\": [\n          308,\n          130,\n          194\n        ],\n        \"semantic_type\": \"\",\n        \"description\": \"\"\n      }\n    },\n    {\n      \"column\": \"games_injured\",\n      \"properties\": {\n        \"dtype\": \"number\",\n        \"std\": 23,\n        \"min\": 0,\n        \"max\": 339,\n        \"num_unique_values\": 154,\n        \"samples\": [\n          53,\n          141,\n          114\n        ],\n        \"semantic_type\": \"\",\n        \"description\": \"\"\n      }\n    },\n    {\n      \"column\": \"award\",\n      \"properties\": {\n        \"dtype\": \"number\",\n        \"std\": 3,\n        \"min\": 0,\n        \"max\": 92,\n        \"num_unique_values\": 46,\n        \"samples\": [\n          31,\n          17,\n          33\n        ],\n        \"semantic_type\": \"\",\n        \"description\": \"\"\n      }\n    },\n    {\n      \"column\": \"highest_value\",\n      \"properties\": {\n        \"dtype\": \"number\",\n        \"std\": 13389876,\n        \"min\": 0,\n        \"max\": 200000000,\n        \"num_unique_values\": 156,\n        \"samples\": [\n          2700000,\n          1200000,\n          1400000\n        ],\n        \"semantic_type\": \"\",\n        \"description\": \"\"\n      }\n    },\n    {\n      \"column\": \"position_encoded\",\n      \"properties\": {\n        \"dtype\": \"number\",\n        \"std\": 0,\n        \"min\": 1,\n        \"max\": 4,\n        \"num_unique_values\": 4,\n        \"samples\": [\n          2,\n          4,\n          1\n        ],\n        \"semantic_type\": \"\",\n        \"description\": \"\"\n      }\n    },\n    {\n      \"column\": \"winger\",\n      \"properties\": {\n        \"dtype\": \"number\",\n        \"std\": 0,\n        \"min\": 0,\n        \"max\": 1,\n        \"num_unique_values\": 2,\n        \"samples\": [\n          1,\n          0\n        ],\n        \"semantic_type\": \"\",\n        \"description\": \"\"\n      }\n    }\n  ]\n}"
            }
          },
          "metadata": {},
          "execution_count": 25
        }
      ],
      "source": [
        "# View top few rows\n",
        "X.head()"
      ]
    },
    {
      "cell_type": "code",
      "execution_count": null,
      "metadata": {
        "colab": {
          "base_uri": "https://localhost:8080/",
          "height": 355
        },
        "id": "x9Gi1BIU6s72",
        "outputId": "367201af-66c7-494e-8e00-cb26d85ccce5"
      },
      "outputs": [
        {
          "output_type": "execute_result",
          "data": {
            "text/plain": [
              "             height           age    appearance         goals       assists  \\\n",
              "count  10754.000000  10754.000000  10754.000000  10754.000000  10754.000000   \n",
              "mean     181.240353     26.041903     36.407011      0.125554      0.086978   \n",
              "std        6.969818      4.777629     26.526541      0.235585      0.143351   \n",
              "min      156.000000     15.000000      0.000000      0.000000      0.000000   \n",
              "25%      176.000000     22.000000     12.000000      0.000000      0.000000   \n",
              "50%      181.240353     26.000000     35.000000      0.045969      0.040773   \n",
              "75%      186.000000     29.000000     59.000000      0.172263      0.133136   \n",
              "max      206.000000     43.000000    107.000000     11.250000      4.000000   \n",
              "\n",
              "       yellow cards  second yellow cards     red cards  goals conceded  \\\n",
              "count  10754.000000         10754.000000  10754.000000    10754.000000   \n",
              "mean       0.189757             0.004666      0.006826        0.131655   \n",
              "std        0.432388             0.025232      0.081143        0.442335   \n",
              "min        0.000000             0.000000      0.000000        0.000000   \n",
              "25%        0.053191             0.000000      0.000000        0.000000   \n",
              "50%        0.150250             0.000000      0.000000        0.000000   \n",
              "75%        0.248276             0.000000      0.000000        0.000000   \n",
              "max       30.000000             1.000000      6.923077        9.000000   \n",
              "\n",
              "       clean sheets  minutes played  days_injured  games_injured  \\\n",
              "count  10754.000000    10754.000000  10754.000000   10754.000000   \n",
              "mean       0.044881     2470.789381    117.961689      15.826297   \n",
              "std        0.924437     2021.703271    175.206827      23.383606   \n",
              "min        0.000000        0.000000      0.000000       0.000000   \n",
              "25%        0.000000      660.000000      0.000000       0.000000   \n",
              "50%        0.000000     2101.500000     37.000000       5.000000   \n",
              "75%        0.000000     3968.000000    181.000000      24.000000   \n",
              "max       90.000000     9510.000000   2349.000000     339.000000   \n",
              "\n",
              "              award  highest_value  position_encoded        winger  \n",
              "count  10754.000000   1.075400e+04      10754.000000  10754.000000  \n",
              "mean       1.960759   6.152606e+06          2.713223      0.307513  \n",
              "std        3.743936   1.338988e+07          0.986356      0.461485  \n",
              "min        0.000000   0.000000e+00          1.000000      0.000000  \n",
              "25%        0.000000   4.500000e+05          2.000000      0.000000  \n",
              "50%        1.000000   1.500000e+06          3.000000      0.000000  \n",
              "75%        2.000000   5.000000e+06          4.000000      1.000000  \n",
              "max       92.000000   2.000000e+08          4.000000      1.000000  "
            ],
            "text/html": [
              "\n",
              "  <div id=\"df-fd313dbf-8488-4acc-a06b-706e44ccf007\" class=\"colab-df-container\">\n",
              "    <div>\n",
              "<style scoped>\n",
              "    .dataframe tbody tr th:only-of-type {\n",
              "        vertical-align: middle;\n",
              "    }\n",
              "\n",
              "    .dataframe tbody tr th {\n",
              "        vertical-align: top;\n",
              "    }\n",
              "\n",
              "    .dataframe thead th {\n",
              "        text-align: right;\n",
              "    }\n",
              "</style>\n",
              "<table border=\"1\" class=\"dataframe\">\n",
              "  <thead>\n",
              "    <tr style=\"text-align: right;\">\n",
              "      <th></th>\n",
              "      <th>height</th>\n",
              "      <th>age</th>\n",
              "      <th>appearance</th>\n",
              "      <th>goals</th>\n",
              "      <th>assists</th>\n",
              "      <th>yellow cards</th>\n",
              "      <th>second yellow cards</th>\n",
              "      <th>red cards</th>\n",
              "      <th>goals conceded</th>\n",
              "      <th>clean sheets</th>\n",
              "      <th>minutes played</th>\n",
              "      <th>days_injured</th>\n",
              "      <th>games_injured</th>\n",
              "      <th>award</th>\n",
              "      <th>highest_value</th>\n",
              "      <th>position_encoded</th>\n",
              "      <th>winger</th>\n",
              "    </tr>\n",
              "  </thead>\n",
              "  <tbody>\n",
              "    <tr>\n",
              "      <th>count</th>\n",
              "      <td>10754.000000</td>\n",
              "      <td>10754.000000</td>\n",
              "      <td>10754.000000</td>\n",
              "      <td>10754.000000</td>\n",
              "      <td>10754.000000</td>\n",
              "      <td>10754.000000</td>\n",
              "      <td>10754.000000</td>\n",
              "      <td>10754.000000</td>\n",
              "      <td>10754.000000</td>\n",
              "      <td>10754.000000</td>\n",
              "      <td>10754.000000</td>\n",
              "      <td>10754.000000</td>\n",
              "      <td>10754.000000</td>\n",
              "      <td>10754.000000</td>\n",
              "      <td>1.075400e+04</td>\n",
              "      <td>10754.000000</td>\n",
              "      <td>10754.000000</td>\n",
              "    </tr>\n",
              "    <tr>\n",
              "      <th>mean</th>\n",
              "      <td>181.240353</td>\n",
              "      <td>26.041903</td>\n",
              "      <td>36.407011</td>\n",
              "      <td>0.125554</td>\n",
              "      <td>0.086978</td>\n",
              "      <td>0.189757</td>\n",
              "      <td>0.004666</td>\n",
              "      <td>0.006826</td>\n",
              "      <td>0.131655</td>\n",
              "      <td>0.044881</td>\n",
              "      <td>2470.789381</td>\n",
              "      <td>117.961689</td>\n",
              "      <td>15.826297</td>\n",
              "      <td>1.960759</td>\n",
              "      <td>6.152606e+06</td>\n",
              "      <td>2.713223</td>\n",
              "      <td>0.307513</td>\n",
              "    </tr>\n",
              "    <tr>\n",
              "      <th>std</th>\n",
              "      <td>6.969818</td>\n",
              "      <td>4.777629</td>\n",
              "      <td>26.526541</td>\n",
              "      <td>0.235585</td>\n",
              "      <td>0.143351</td>\n",
              "      <td>0.432388</td>\n",
              "      <td>0.025232</td>\n",
              "      <td>0.081143</td>\n",
              "      <td>0.442335</td>\n",
              "      <td>0.924437</td>\n",
              "      <td>2021.703271</td>\n",
              "      <td>175.206827</td>\n",
              "      <td>23.383606</td>\n",
              "      <td>3.743936</td>\n",
              "      <td>1.338988e+07</td>\n",
              "      <td>0.986356</td>\n",
              "      <td>0.461485</td>\n",
              "    </tr>\n",
              "    <tr>\n",
              "      <th>min</th>\n",
              "      <td>156.000000</td>\n",
              "      <td>15.000000</td>\n",
              "      <td>0.000000</td>\n",
              "      <td>0.000000</td>\n",
              "      <td>0.000000</td>\n",
              "      <td>0.000000</td>\n",
              "      <td>0.000000</td>\n",
              "      <td>0.000000</td>\n",
              "      <td>0.000000</td>\n",
              "      <td>0.000000</td>\n",
              "      <td>0.000000</td>\n",
              "      <td>0.000000</td>\n",
              "      <td>0.000000</td>\n",
              "      <td>0.000000</td>\n",
              "      <td>0.000000e+00</td>\n",
              "      <td>1.000000</td>\n",
              "      <td>0.000000</td>\n",
              "    </tr>\n",
              "    <tr>\n",
              "      <th>25%</th>\n",
              "      <td>176.000000</td>\n",
              "      <td>22.000000</td>\n",
              "      <td>12.000000</td>\n",
              "      <td>0.000000</td>\n",
              "      <td>0.000000</td>\n",
              "      <td>0.053191</td>\n",
              "      <td>0.000000</td>\n",
              "      <td>0.000000</td>\n",
              "      <td>0.000000</td>\n",
              "      <td>0.000000</td>\n",
              "      <td>660.000000</td>\n",
              "      <td>0.000000</td>\n",
              "      <td>0.000000</td>\n",
              "      <td>0.000000</td>\n",
              "      <td>4.500000e+05</td>\n",
              "      <td>2.000000</td>\n",
              "      <td>0.000000</td>\n",
              "    </tr>\n",
              "    <tr>\n",
              "      <th>50%</th>\n",
              "      <td>181.240353</td>\n",
              "      <td>26.000000</td>\n",
              "      <td>35.000000</td>\n",
              "      <td>0.045969</td>\n",
              "      <td>0.040773</td>\n",
              "      <td>0.150250</td>\n",
              "      <td>0.000000</td>\n",
              "      <td>0.000000</td>\n",
              "      <td>0.000000</td>\n",
              "      <td>0.000000</td>\n",
              "      <td>2101.500000</td>\n",
              "      <td>37.000000</td>\n",
              "      <td>5.000000</td>\n",
              "      <td>1.000000</td>\n",
              "      <td>1.500000e+06</td>\n",
              "      <td>3.000000</td>\n",
              "      <td>0.000000</td>\n",
              "    </tr>\n",
              "    <tr>\n",
              "      <th>75%</th>\n",
              "      <td>186.000000</td>\n",
              "      <td>29.000000</td>\n",
              "      <td>59.000000</td>\n",
              "      <td>0.172263</td>\n",
              "      <td>0.133136</td>\n",
              "      <td>0.248276</td>\n",
              "      <td>0.000000</td>\n",
              "      <td>0.000000</td>\n",
              "      <td>0.000000</td>\n",
              "      <td>0.000000</td>\n",
              "      <td>3968.000000</td>\n",
              "      <td>181.000000</td>\n",
              "      <td>24.000000</td>\n",
              "      <td>2.000000</td>\n",
              "      <td>5.000000e+06</td>\n",
              "      <td>4.000000</td>\n",
              "      <td>1.000000</td>\n",
              "    </tr>\n",
              "    <tr>\n",
              "      <th>max</th>\n",
              "      <td>206.000000</td>\n",
              "      <td>43.000000</td>\n",
              "      <td>107.000000</td>\n",
              "      <td>11.250000</td>\n",
              "      <td>4.000000</td>\n",
              "      <td>30.000000</td>\n",
              "      <td>1.000000</td>\n",
              "      <td>6.923077</td>\n",
              "      <td>9.000000</td>\n",
              "      <td>90.000000</td>\n",
              "      <td>9510.000000</td>\n",
              "      <td>2349.000000</td>\n",
              "      <td>339.000000</td>\n",
              "      <td>92.000000</td>\n",
              "      <td>2.000000e+08</td>\n",
              "      <td>4.000000</td>\n",
              "      <td>1.000000</td>\n",
              "    </tr>\n",
              "  </tbody>\n",
              "</table>\n",
              "</div>\n",
              "    <div class=\"colab-df-buttons\">\n",
              "\n",
              "  <div class=\"colab-df-container\">\n",
              "    <button class=\"colab-df-convert\" onclick=\"convertToInteractive('df-fd313dbf-8488-4acc-a06b-706e44ccf007')\"\n",
              "            title=\"Convert this dataframe to an interactive table.\"\n",
              "            style=\"display:none;\">\n",
              "\n",
              "  <svg xmlns=\"http://www.w3.org/2000/svg\" height=\"24px\" viewBox=\"0 -960 960 960\">\n",
              "    <path d=\"M120-120v-720h720v720H120Zm60-500h600v-160H180v160Zm220 220h160v-160H400v160Zm0 220h160v-160H400v160ZM180-400h160v-160H180v160Zm440 0h160v-160H620v160ZM180-180h160v-160H180v160Zm440 0h160v-160H620v160Z\"/>\n",
              "  </svg>\n",
              "    </button>\n",
              "\n",
              "  <style>\n",
              "    .colab-df-container {\n",
              "      display:flex;\n",
              "      gap: 12px;\n",
              "    }\n",
              "\n",
              "    .colab-df-convert {\n",
              "      background-color: #E8F0FE;\n",
              "      border: none;\n",
              "      border-radius: 50%;\n",
              "      cursor: pointer;\n",
              "      display: none;\n",
              "      fill: #1967D2;\n",
              "      height: 32px;\n",
              "      padding: 0 0 0 0;\n",
              "      width: 32px;\n",
              "    }\n",
              "\n",
              "    .colab-df-convert:hover {\n",
              "      background-color: #E2EBFA;\n",
              "      box-shadow: 0px 1px 2px rgba(60, 64, 67, 0.3), 0px 1px 3px 1px rgba(60, 64, 67, 0.15);\n",
              "      fill: #174EA6;\n",
              "    }\n",
              "\n",
              "    .colab-df-buttons div {\n",
              "      margin-bottom: 4px;\n",
              "    }\n",
              "\n",
              "    [theme=dark] .colab-df-convert {\n",
              "      background-color: #3B4455;\n",
              "      fill: #D2E3FC;\n",
              "    }\n",
              "\n",
              "    [theme=dark] .colab-df-convert:hover {\n",
              "      background-color: #434B5C;\n",
              "      box-shadow: 0px 1px 3px 1px rgba(0, 0, 0, 0.15);\n",
              "      filter: drop-shadow(0px 1px 2px rgba(0, 0, 0, 0.3));\n",
              "      fill: #FFFFFF;\n",
              "    }\n",
              "  </style>\n",
              "\n",
              "    <script>\n",
              "      const buttonEl =\n",
              "        document.querySelector('#df-fd313dbf-8488-4acc-a06b-706e44ccf007 button.colab-df-convert');\n",
              "      buttonEl.style.display =\n",
              "        google.colab.kernel.accessAllowed ? 'block' : 'none';\n",
              "\n",
              "      async function convertToInteractive(key) {\n",
              "        const element = document.querySelector('#df-fd313dbf-8488-4acc-a06b-706e44ccf007');\n",
              "        const dataTable =\n",
              "          await google.colab.kernel.invokeFunction('convertToInteractive',\n",
              "                                                    [key], {});\n",
              "        if (!dataTable) return;\n",
              "\n",
              "        const docLinkHtml = 'Like what you see? Visit the ' +\n",
              "          '<a target=\"_blank\" href=https://colab.research.google.com/notebooks/data_table.ipynb>data table notebook</a>'\n",
              "          + ' to learn more about interactive tables.';\n",
              "        element.innerHTML = '';\n",
              "        dataTable['output_type'] = 'display_data';\n",
              "        await google.colab.output.renderOutput(dataTable, element);\n",
              "        const docLink = document.createElement('div');\n",
              "        docLink.innerHTML = docLinkHtml;\n",
              "        element.appendChild(docLink);\n",
              "      }\n",
              "    </script>\n",
              "  </div>\n",
              "\n",
              "\n",
              "<div id=\"df-ed009645-4525-4db5-8108-b3f2b171e3dd\">\n",
              "  <button class=\"colab-df-quickchart\" onclick=\"quickchart('df-ed009645-4525-4db5-8108-b3f2b171e3dd')\"\n",
              "            title=\"Suggest charts\"\n",
              "            style=\"display:none;\">\n",
              "\n",
              "<svg xmlns=\"http://www.w3.org/2000/svg\" height=\"24px\"viewBox=\"0 0 24 24\"\n",
              "     width=\"24px\">\n",
              "    <g>\n",
              "        <path d=\"M19 3H5c-1.1 0-2 .9-2 2v14c0 1.1.9 2 2 2h14c1.1 0 2-.9 2-2V5c0-1.1-.9-2-2-2zM9 17H7v-7h2v7zm4 0h-2V7h2v10zm4 0h-2v-4h2v4z\"/>\n",
              "    </g>\n",
              "</svg>\n",
              "  </button>\n",
              "\n",
              "<style>\n",
              "  .colab-df-quickchart {\n",
              "      --bg-color: #E8F0FE;\n",
              "      --fill-color: #1967D2;\n",
              "      --hover-bg-color: #E2EBFA;\n",
              "      --hover-fill-color: #174EA6;\n",
              "      --disabled-fill-color: #AAA;\n",
              "      --disabled-bg-color: #DDD;\n",
              "  }\n",
              "\n",
              "  [theme=dark] .colab-df-quickchart {\n",
              "      --bg-color: #3B4455;\n",
              "      --fill-color: #D2E3FC;\n",
              "      --hover-bg-color: #434B5C;\n",
              "      --hover-fill-color: #FFFFFF;\n",
              "      --disabled-bg-color: #3B4455;\n",
              "      --disabled-fill-color: #666;\n",
              "  }\n",
              "\n",
              "  .colab-df-quickchart {\n",
              "    background-color: var(--bg-color);\n",
              "    border: none;\n",
              "    border-radius: 50%;\n",
              "    cursor: pointer;\n",
              "    display: none;\n",
              "    fill: var(--fill-color);\n",
              "    height: 32px;\n",
              "    padding: 0;\n",
              "    width: 32px;\n",
              "  }\n",
              "\n",
              "  .colab-df-quickchart:hover {\n",
              "    background-color: var(--hover-bg-color);\n",
              "    box-shadow: 0 1px 2px rgba(60, 64, 67, 0.3), 0 1px 3px 1px rgba(60, 64, 67, 0.15);\n",
              "    fill: var(--button-hover-fill-color);\n",
              "  }\n",
              "\n",
              "  .colab-df-quickchart-complete:disabled,\n",
              "  .colab-df-quickchart-complete:disabled:hover {\n",
              "    background-color: var(--disabled-bg-color);\n",
              "    fill: var(--disabled-fill-color);\n",
              "    box-shadow: none;\n",
              "  }\n",
              "\n",
              "  .colab-df-spinner {\n",
              "    border: 2px solid var(--fill-color);\n",
              "    border-color: transparent;\n",
              "    border-bottom-color: var(--fill-color);\n",
              "    animation:\n",
              "      spin 1s steps(1) infinite;\n",
              "  }\n",
              "\n",
              "  @keyframes spin {\n",
              "    0% {\n",
              "      border-color: transparent;\n",
              "      border-bottom-color: var(--fill-color);\n",
              "      border-left-color: var(--fill-color);\n",
              "    }\n",
              "    20% {\n",
              "      border-color: transparent;\n",
              "      border-left-color: var(--fill-color);\n",
              "      border-top-color: var(--fill-color);\n",
              "    }\n",
              "    30% {\n",
              "      border-color: transparent;\n",
              "      border-left-color: var(--fill-color);\n",
              "      border-top-color: var(--fill-color);\n",
              "      border-right-color: var(--fill-color);\n",
              "    }\n",
              "    40% {\n",
              "      border-color: transparent;\n",
              "      border-right-color: var(--fill-color);\n",
              "      border-top-color: var(--fill-color);\n",
              "    }\n",
              "    60% {\n",
              "      border-color: transparent;\n",
              "      border-right-color: var(--fill-color);\n",
              "    }\n",
              "    80% {\n",
              "      border-color: transparent;\n",
              "      border-right-color: var(--fill-color);\n",
              "      border-bottom-color: var(--fill-color);\n",
              "    }\n",
              "    90% {\n",
              "      border-color: transparent;\n",
              "      border-bottom-color: var(--fill-color);\n",
              "    }\n",
              "  }\n",
              "</style>\n",
              "\n",
              "  <script>\n",
              "    async function quickchart(key) {\n",
              "      const quickchartButtonEl =\n",
              "        document.querySelector('#' + key + ' button');\n",
              "      quickchartButtonEl.disabled = true;  // To prevent multiple clicks.\n",
              "      quickchartButtonEl.classList.add('colab-df-spinner');\n",
              "      try {\n",
              "        const charts = await google.colab.kernel.invokeFunction(\n",
              "            'suggestCharts', [key], {});\n",
              "      } catch (error) {\n",
              "        console.error('Error during call to suggestCharts:', error);\n",
              "      }\n",
              "      quickchartButtonEl.classList.remove('colab-df-spinner');\n",
              "      quickchartButtonEl.classList.add('colab-df-quickchart-complete');\n",
              "    }\n",
              "    (() => {\n",
              "      let quickchartButtonEl =\n",
              "        document.querySelector('#df-ed009645-4525-4db5-8108-b3f2b171e3dd button');\n",
              "      quickchartButtonEl.style.display =\n",
              "        google.colab.kernel.accessAllowed ? 'block' : 'none';\n",
              "    })();\n",
              "  </script>\n",
              "</div>\n",
              "\n",
              "    </div>\n",
              "  </div>\n"
            ],
            "application/vnd.google.colaboratory.intrinsic+json": {
              "type": "dataframe",
              "summary": "{\n  \"name\": \"X\",\n  \"rows\": 8,\n  \"fields\": [\n    {\n      \"column\": \"height\",\n      \"properties\": {\n        \"dtype\": \"number\",\n        \"std\": 3747.405659149188,\n        \"min\": 6.969818188670933,\n        \"max\": 10754.0,\n        \"num_unique_values\": 8,\n        \"samples\": [\n          181.24035291761206,\n          181.2403529,\n          10754.0\n        ],\n        \"semantic_type\": \"\",\n        \"description\": \"\"\n      }\n    },\n    {\n      \"column\": \"age\",\n      \"properties\": {\n        \"dtype\": \"number\",\n        \"std\": 3793.753977259435,\n        \"min\": 4.777628742246696,\n        \"max\": 10754.0,\n        \"num_unique_values\": 8,\n        \"samples\": [\n          26.04190334295146,\n          26.0,\n          10754.0\n        ],\n        \"semantic_type\": \"\",\n        \"description\": \"\"\n      }\n    },\n    {\n      \"column\": \"appearance\",\n      \"properties\": {\n        \"dtype\": \"number\",\n        \"std\": 3788.316905924267,\n        \"min\": 0.0,\n        \"max\": 10754.0,\n        \"num_unique_values\": 8,\n        \"samples\": [\n          36.40701134461596,\n          35.0,\n          10754.0\n        ],\n        \"semantic_type\": \"\",\n        \"description\": \"\"\n      }\n    },\n    {\n      \"column\": \"goals\",\n      \"properties\": {\n        \"dtype\": \"number\",\n        \"std\": 3801.5176933383914,\n        \"min\": 0.0,\n        \"max\": 10754.0,\n        \"num_unique_values\": 7,\n        \"samples\": [\n          10754.0,\n          0.12555431571759346,\n          0.172262541\n        ],\n        \"semantic_type\": \"\",\n        \"description\": \"\"\n      }\n    },\n    {\n      \"column\": \"assists\",\n      \"properties\": {\n        \"dtype\": \"number\",\n        \"std\": 3801.8909642471567,\n        \"min\": 0.0,\n        \"max\": 10754.0,\n        \"num_unique_values\": 7,\n        \"samples\": [\n          10754.0,\n          0.08697764630537475,\n          0.133136095\n        ],\n        \"semantic_type\": \"\",\n        \"description\": \"\"\n      }\n    },\n    {\n      \"column\": \"yellow cards\",\n      \"properties\": {\n        \"dtype\": \"number\",\n        \"std\": 3800.558023528649,\n        \"min\": 0.0,\n        \"max\": 10754.0,\n        \"num_unique_values\": 8,\n        \"samples\": [\n          0.18975722693965036,\n          0.150250417,\n          10754.0\n        ],\n        \"semantic_type\": \"\",\n        \"description\": \"\"\n      }\n    },\n    {\n      \"column\": \"second yellow cards\",\n      \"properties\": {\n        \"dtype\": \"number\",\n        \"std\": 3802.061160704923,\n        \"min\": 0.0,\n        \"max\": 10754.0,\n        \"num_unique_values\": 5,\n        \"samples\": [\n          0.004665666884787057,\n          1.0,\n          0.02523200326775313\n        ],\n        \"semantic_type\": \"\",\n        \"description\": \"\"\n      }\n    },\n    {\n      \"column\": \"red cards\",\n      \"properties\": {\n        \"dtype\": \"number\",\n        \"std\": 3801.7598198548435,\n        \"min\": 0.0,\n        \"max\": 10754.0,\n        \"num_unique_values\": 5,\n        \"samples\": [\n          0.006826069735075321,\n          6.923076923,\n          0.08114266117203013\n        ],\n        \"semantic_type\": \"\",\n        \"description\": \"\"\n      }\n    },\n    {\n      \"column\": \"goals conceded\",\n      \"properties\": {\n        \"dtype\": \"number\",\n        \"std\": 3801.6308827490666,\n        \"min\": 0.0,\n        \"max\": 10754.0,\n        \"num_unique_values\": 5,\n        \"samples\": [\n          0.13165546789380694,\n          9.0,\n          0.4423354678940124\n        ],\n        \"semantic_type\": \"\",\n        \"description\": \"\"\n      }\n    },\n    {\n      \"column\": \"clean sheets\",\n      \"properties\": {\n        \"dtype\": \"number\",\n        \"std\": 3797.64865066929,\n        \"min\": 0.0,\n        \"max\": 10754.0,\n        \"num_unique_values\": 5,\n        \"samples\": [\n          0.0448808990385903,\n          90.0,\n          0.9244373006929671\n        ],\n        \"semantic_type\": \"\",\n        \"description\": \"\"\n      }\n    },\n    {\n      \"column\": \"minutes played\",\n      \"properties\": {\n        \"dtype\": \"number\",\n        \"std\": 4017.046887434707,\n        \"min\": 0.0,\n        \"max\": 10754.0,\n        \"num_unique_values\": 8,\n        \"samples\": [\n          2470.7893806955553,\n          2101.5,\n          10754.0\n        ],\n        \"semantic_type\": \"\",\n        \"description\": \"\"\n      }\n    },\n    {\n      \"column\": \"days_injured\",\n      \"properties\": {\n        \"dtype\": \"number\",\n        \"std\": 3743.1243891014365,\n        \"min\": 0.0,\n        \"max\": 10754.0,\n        \"num_unique_values\": 7,\n        \"samples\": [\n          10754.0,\n          117.96168867398177,\n          181.0\n        ],\n        \"semantic_type\": \"\",\n        \"description\": \"\"\n      }\n    },\n    {\n      \"column\": \"games_injured\",\n      \"properties\": {\n        \"dtype\": \"number\",\n        \"std\": 3783.295227546033,\n        \"min\": 0.0,\n        \"max\": 10754.0,\n        \"num_unique_values\": 7,\n        \"samples\": [\n          10754.0,\n          15.826297191742608,\n          24.0\n        ],\n        \"semantic_type\": \"\",\n        \"description\": \"\"\n      }\n    },\n    {\n      \"column\": \"award\",\n      \"properties\": {\n        \"dtype\": \"number\",\n        \"std\": 3797.1592033535107,\n        \"min\": 0.0,\n        \"max\": 10754.0,\n        \"num_unique_values\": 7,\n        \"samples\": [\n          10754.0,\n          1.9607587874279337,\n          2.0\n        ],\n        \"semantic_type\": \"\",\n        \"description\": \"\"\n      }\n    },\n    {\n      \"column\": \"highest_value\",\n      \"properties\": {\n        \"dtype\": \"number\",\n        \"std\": 69520430.14593862,\n        \"min\": 0.0,\n        \"max\": 200000000.0,\n        \"num_unique_values\": 8,\n        \"samples\": [\n          6152606.007067137,\n          1500000.0,\n          10754.0\n        ],\n        \"semantic_type\": \"\",\n        \"description\": \"\"\n      }\n    },\n    {\n      \"column\": \"position_encoded\",\n      \"properties\": {\n        \"dtype\": \"number\",\n        \"std\": 3801.2193787228994,\n        \"min\": 0.9863562729696624,\n        \"max\": 10754.0,\n        \"num_unique_values\": 7,\n        \"samples\": [\n          10754.0,\n          2.713222986795611,\n          3.0\n        ],\n        \"semantic_type\": \"\",\n        \"description\": \"\"\n      }\n    },\n    {\n      \"column\": \"winger\",\n      \"properties\": {\n        \"dtype\": \"number\",\n        \"std\": 3801.973329652134,\n        \"min\": 0.0,\n        \"max\": 10754.0,\n        \"num_unique_values\": 5,\n        \"samples\": [\n          0.3075134833550307,\n          1.0,\n          0.4614853676847013\n        ],\n        \"semantic_type\": \"\",\n        \"description\": \"\"\n      }\n    }\n  ]\n}"
            }
          },
          "metadata": {},
          "execution_count": 26
        }
      ],
      "source": [
        "# Describe columns using basic stats\n",
        "X.describe()"
      ]
    },
    {
      "cell_type": "markdown",
      "metadata": {
        "id": "mftJ5DVT6s74"
      },
      "source": [
        "## Build Model"
      ]
    },
    {
      "cell_type": "markdown",
      "metadata": {
        "id": "YtDQ7wDo6s75"
      },
      "source": [
        "The steps to building and using a model are:\n",
        "\n",
        "* **Define:** Define the appropriate model to use. Depending on the model choice, other parameters are specified too.\n",
        "* **Fit:** Fit the model to the data by capturing patterns.\n",
        "* **Predict:** Predict other data points using the fitted model.\n",
        "* **Evaluate:** Evaluate the model's prediction.\n",
        "\n",
        "We will use the sklearn library to create our models."
      ]
    },
    {
      "cell_type": "markdown",
      "metadata": {
        "id": "02KErHL-6s76"
      },
      "source": [
        "#### Define"
      ]
    },
    {
      "cell_type": "code",
      "execution_count": null,
      "metadata": {
        "id": "yBpMQTc56s76"
      },
      "outputs": [],
      "source": [
        "import sklearn\n",
        "from sklearn.tree import DecisionTreeRegressor\n",
        "\n",
        "# Fix the seed to the random number generator to ensure same results each run.\n",
        "mdlDtrplayers = DecisionTreeRegressor(random_state=1)"
      ]
    },
    {
      "cell_type": "markdown",
      "metadata": {
        "id": "0d8wnKKW6s76"
      },
      "source": [
        "#### Fit"
      ]
    },
    {
      "cell_type": "code",
      "execution_count": null,
      "metadata": {
        "colab": {
          "base_uri": "https://localhost:8080/",
          "height": 75
        },
        "id": "r4CKT7qb6s76",
        "outputId": "a206b384-165c-41a9-9fc2-2e8a13b31ba3"
      },
      "outputs": [
        {
          "output_type": "execute_result",
          "data": {
            "text/plain": [
              "DecisionTreeRegressor(random_state=1)"
            ],
            "text/html": [
              "<style>#sk-container-id-2 {color: black;background-color: white;}#sk-container-id-2 pre{padding: 0;}#sk-container-id-2 div.sk-toggleable {background-color: white;}#sk-container-id-2 label.sk-toggleable__label {cursor: pointer;display: block;width: 100%;margin-bottom: 0;padding: 0.3em;box-sizing: border-box;text-align: center;}#sk-container-id-2 label.sk-toggleable__label-arrow:before {content: \"▸\";float: left;margin-right: 0.25em;color: #696969;}#sk-container-id-2 label.sk-toggleable__label-arrow:hover:before {color: black;}#sk-container-id-2 div.sk-estimator:hover label.sk-toggleable__label-arrow:before {color: black;}#sk-container-id-2 div.sk-toggleable__content {max-height: 0;max-width: 0;overflow: hidden;text-align: left;background-color: #f0f8ff;}#sk-container-id-2 div.sk-toggleable__content pre {margin: 0.2em;color: black;border-radius: 0.25em;background-color: #f0f8ff;}#sk-container-id-2 input.sk-toggleable__control:checked~div.sk-toggleable__content {max-height: 200px;max-width: 100%;overflow: auto;}#sk-container-id-2 input.sk-toggleable__control:checked~label.sk-toggleable__label-arrow:before {content: \"▾\";}#sk-container-id-2 div.sk-estimator input.sk-toggleable__control:checked~label.sk-toggleable__label {background-color: #d4ebff;}#sk-container-id-2 div.sk-label input.sk-toggleable__control:checked~label.sk-toggleable__label {background-color: #d4ebff;}#sk-container-id-2 input.sk-hidden--visually {border: 0;clip: rect(1px 1px 1px 1px);clip: rect(1px, 1px, 1px, 1px);height: 1px;margin: -1px;overflow: hidden;padding: 0;position: absolute;width: 1px;}#sk-container-id-2 div.sk-estimator {font-family: monospace;background-color: #f0f8ff;border: 1px dotted black;border-radius: 0.25em;box-sizing: border-box;margin-bottom: 0.5em;}#sk-container-id-2 div.sk-estimator:hover {background-color: #d4ebff;}#sk-container-id-2 div.sk-parallel-item::after {content: \"\";width: 100%;border-bottom: 1px solid gray;flex-grow: 1;}#sk-container-id-2 div.sk-label:hover label.sk-toggleable__label {background-color: #d4ebff;}#sk-container-id-2 div.sk-serial::before {content: \"\";position: absolute;border-left: 1px solid gray;box-sizing: border-box;top: 0;bottom: 0;left: 50%;z-index: 0;}#sk-container-id-2 div.sk-serial {display: flex;flex-direction: column;align-items: center;background-color: white;padding-right: 0.2em;padding-left: 0.2em;position: relative;}#sk-container-id-2 div.sk-item {position: relative;z-index: 1;}#sk-container-id-2 div.sk-parallel {display: flex;align-items: stretch;justify-content: center;background-color: white;position: relative;}#sk-container-id-2 div.sk-item::before, #sk-container-id-2 div.sk-parallel-item::before {content: \"\";position: absolute;border-left: 1px solid gray;box-sizing: border-box;top: 0;bottom: 0;left: 50%;z-index: -1;}#sk-container-id-2 div.sk-parallel-item {display: flex;flex-direction: column;z-index: 1;position: relative;background-color: white;}#sk-container-id-2 div.sk-parallel-item:first-child::after {align-self: flex-end;width: 50%;}#sk-container-id-2 div.sk-parallel-item:last-child::after {align-self: flex-start;width: 50%;}#sk-container-id-2 div.sk-parallel-item:only-child::after {width: 0;}#sk-container-id-2 div.sk-dashed-wrapped {border: 1px dashed gray;margin: 0 0.4em 0.5em 0.4em;box-sizing: border-box;padding-bottom: 0.4em;background-color: white;}#sk-container-id-2 div.sk-label label {font-family: monospace;font-weight: bold;display: inline-block;line-height: 1.2em;}#sk-container-id-2 div.sk-label-container {text-align: center;}#sk-container-id-2 div.sk-container {/* jupyter's `normalize.less` sets `[hidden] { display: none; }` but bootstrap.min.css set `[hidden] { display: none !important; }` so we also need the `!important` here to be able to override the default hidden behavior on the sphinx rendered scikit-learn.org. See: https://github.com/scikit-learn/scikit-learn/issues/21755 */display: inline-block !important;position: relative;}#sk-container-id-2 div.sk-text-repr-fallback {display: none;}</style><div id=\"sk-container-id-2\" class=\"sk-top-container\"><div class=\"sk-text-repr-fallback\"><pre>DecisionTreeRegressor(random_state=1)</pre><b>In a Jupyter environment, please rerun this cell to show the HTML representation or trust the notebook. <br />On GitHub, the HTML representation is unable to render, please try loading this page with nbviewer.org.</b></div><div class=\"sk-container\" hidden><div class=\"sk-item\"><div class=\"sk-estimator sk-toggleable\"><input class=\"sk-toggleable__control sk-hidden--visually\" id=\"sk-estimator-id-2\" type=\"checkbox\" checked><label for=\"sk-estimator-id-2\" class=\"sk-toggleable__label sk-toggleable__label-arrow\">DecisionTreeRegressor</label><div class=\"sk-toggleable__content\"><pre>DecisionTreeRegressor(random_state=1)</pre></div></div></div></div></div>"
            ]
          },
          "metadata": {},
          "execution_count": 28
        }
      ],
      "source": [
        "mdlDtrplayers.fit(X,y)"
      ]
    },
    {
      "cell_type": "code",
      "execution_count": null,
      "metadata": {
        "colab": {
          "base_uri": "https://localhost:8080/",
          "height": 499
        },
        "id": "n0JNIGer6s76",
        "outputId": "77d1b4e5-6e70-4ce2-bc5c-028036d654a6"
      },
      "outputs": [
        {
          "output_type": "display_data",
          "data": {
            "text/plain": [
              "<Figure size 800x600 with 1 Axes>"
            ],
            "image/png": "[encoded data removed]"
          },
          "metadata": {}
        }
      ],
      "source": [
        "# Show model\n",
        "from sklearn.tree import plot_tree\n",
        "import matplotlib.pyplot as plt\n",
        "\n",
        "plt.figure(figsize=(8, 6), dpi=100)\n",
        "plot_tree(mdlDtrplayers, max_depth=2, feature_names=X.columns, fontsize= 6, filled=True)\n",
        "plt.show()"
      ]
    },
    {
      "cell_type": "markdown",
      "metadata": {
        "id": "ZlGuDKNW6s77"
      },
      "source": [
        "We now have a fitted model that we can use to make predictions.\n",
        "\n",
        "In practice, we'll want to make predictions for new players coming on the league rather than the players who already have current values. But we'll make predictions for the first few rows of the \"Training Data\" to see how the predict function works."
      ]
    },
    {
      "cell_type": "markdown",
      "metadata": {
        "id": "vc2RYTTv6s77"
      },
      "source": [
        "#### Predict"
      ]
    },
    {
      "cell_type": "code",
      "execution_count": null,
      "metadata": {
        "colab": {
          "base_uri": "https://localhost:8080/"
        },
        "id": "He_kwfuU6s77",
        "outputId": "6343a9b6-3933-4845-df19-aa68ac79b40c"
      },
      "outputs": [
        {
          "output_type": "stream",
          "name": "stdout",
          "text": [
            "First few players:\n",
            "   height   age  appearance     goals   assists  yellow cards  \\\n",
            "0   189.0  32.0         104  0.000000  0.000000      0.009585   \n",
            "1   196.0  30.0          15  0.000000  0.000000      0.069018   \n",
            "2   188.0  37.0           4  0.000000  0.000000      0.000000   \n",
            "3   175.0  25.0          82  0.028090  0.056180      0.224719   \n",
            "4   191.0  30.0          63  0.017889  0.017889      0.053667   \n",
            "\n",
            "   second yellow cards  red cards  goals conceded  clean sheets  \\\n",
            "0                  0.0        0.0        1.217252      0.335463   \n",
            "1                  0.0        0.0        1.242331      0.207055   \n",
            "2                  0.0        0.0        0.616438      0.924658   \n",
            "3                  0.0        0.0        0.000000      0.000000   \n",
            "4                  0.0        0.0        0.000000      0.000000   \n",
            "\n",
            "   minutes played  days_injured  games_injured  award  highest_value  \\\n",
            "0            9390            42              5     13       70000000   \n",
            "1            1304           510             58      1       22000000   \n",
            "2             292           697             84      4        6000000   \n",
            "3            6408           175             22      9       50000000   \n",
            "4            5031           238             51     21       80000000   \n",
            "\n",
            "   position_encoded  winger  \n",
            "0                 1       0  \n",
            "1                 1       0  \n",
            "2                 1       0  \n",
            "3                 2       0  \n",
            "4                 2       0  \n",
            "Current value predictions:\n",
            "[15000000.  1500000.   600000. 50000000. 40000000.]\n"
          ]
        }
      ],
      "source": [
        "print('First few players:')\n",
        "print(X.head())\n",
        "print('Current value predictions:')\n",
        "print(mdlDtrplayers.predict(X.head()))"
      ]
    },
    {
      "cell_type": "code",
      "execution_count": null,
      "metadata": {
        "colab": {
          "base_uri": "https://localhost:8080/",
          "height": 206
        },
        "id": "nOPoT9sf6s77",
        "outputId": "3fa686cd-0bea-484e-8300-91cbb7834b60"
      },
      "outputs": [
        {
          "output_type": "execute_result",
          "data": {
            "text/plain": [
              "   current_value\n",
              "0       15000000\n",
              "1        1500000\n",
              "2         600000\n",
              "3       50000000\n",
              "4       40000000"
            ],
            "text/html": [
              "\n",
              "  <div id=\"df-a48d285a-7174-4fea-8741-40b30a50fd86\" class=\"colab-df-container\">\n",
              "    <div>\n",
              "<style scoped>\n",
              "    .dataframe tbody tr th:only-of-type {\n",
              "        vertical-align: middle;\n",
              "    }\n",
              "\n",
              "    .dataframe tbody tr th {\n",
              "        vertical-align: top;\n",
              "    }\n",
              "\n",
              "    .dataframe thead th {\n",
              "        text-align: right;\n",
              "    }\n",
              "</style>\n",
              "<table border=\"1\" class=\"dataframe\">\n",
              "  <thead>\n",
              "    <tr style=\"text-align: right;\">\n",
              "      <th></th>\n",
              "      <th>current_value</th>\n",
              "    </tr>\n",
              "  </thead>\n",
              "  <tbody>\n",
              "    <tr>\n",
              "      <th>0</th>\n",
              "      <td>15000000</td>\n",
              "    </tr>\n",
              "    <tr>\n",
              "      <th>1</th>\n",
              "      <td>1500000</td>\n",
              "    </tr>\n",
              "    <tr>\n",
              "      <th>2</th>\n",
              "      <td>600000</td>\n",
              "    </tr>\n",
              "    <tr>\n",
              "      <th>3</th>\n",
              "      <td>50000000</td>\n",
              "    </tr>\n",
              "    <tr>\n",
              "      <th>4</th>\n",
              "      <td>40000000</td>\n",
              "    </tr>\n",
              "  </tbody>\n",
              "</table>\n",
              "</div>\n",
              "    <div class=\"colab-df-buttons\">\n",
              "\n",
              "  <div class=\"colab-df-container\">\n",
              "    <button class=\"colab-df-convert\" onclick=\"convertToInteractive('df-a48d285a-7174-4fea-8741-40b30a50fd86')\"\n",
              "            title=\"Convert this dataframe to an interactive table.\"\n",
              "            style=\"display:none;\">\n",
              "\n",
              "  <svg xmlns=\"http://www.w3.org/2000/svg\" height=\"24px\" viewBox=\"0 -960 960 960\">\n",
              "    <path d=\"M120-120v-720h720v720H120Zm60-500h600v-160H180v160Zm220 220h160v-160H400v160Zm0 220h160v-160H400v160ZM180-400h160v-160H180v160Zm440 0h160v-160H620v160ZM180-180h160v-160H180v160Zm440 0h160v-160H620v160Z\"/>\n",
              "  </svg>\n",
              "    </button>\n",
              "\n",
              "  <style>\n",
              "    .colab-df-container {\n",
              "      display:flex;\n",
              "      gap: 12px;\n",
              "    }\n",
              "\n",
              "    .colab-df-convert {\n",
              "      background-color: #E8F0FE;\n",
              "      border: none;\n",
              "      border-radius: 50%;\n",
              "      cursor: pointer;\n",
              "      display: none;\n",
              "      fill: #1967D2;\n",
              "      height: 32px;\n",
              "      padding: 0 0 0 0;\n",
              "      width: 32px;\n",
              "    }\n",
              "\n",
              "    .colab-df-convert:hover {\n",
              "      background-color: #E2EBFA;\n",
              "      box-shadow: 0px 1px 2px rgba(60, 64, 67, 0.3), 0px 1px 3px 1px rgba(60, 64, 67, 0.15);\n",
              "      fill: #174EA6;\n",
              "    }\n",
              "\n",
              "    .colab-df-buttons div {\n",
              "      margin-bottom: 4px;\n",
              "    }\n",
              "\n",
              "    [theme=dark] .colab-df-convert {\n",
              "      background-color: #3B4455;\n",
              "      fill: #D2E3FC;\n",
              "    }\n",
              "\n",
              "    [theme=dark] .colab-df-convert:hover {\n",
              "      background-color: #434B5C;\n",
              "      box-shadow: 0px 1px 3px 1px rgba(0, 0, 0, 0.15);\n",
              "      filter: drop-shadow(0px 1px 2px rgba(0, 0, 0, 0.3));\n",
              "      fill: #FFFFFF;\n",
              "    }\n",
              "  </style>\n",
              "\n",
              "    <script>\n",
              "      const buttonEl =\n",
              "        document.querySelector('#df-a48d285a-7174-4fea-8741-40b30a50fd86 button.colab-df-convert');\n",
              "      buttonEl.style.display =\n",
              "        google.colab.kernel.accessAllowed ? 'block' : 'none';\n",
              "\n",
              "      async function convertToInteractive(key) {\n",
              "        const element = document.querySelector('#df-a48d285a-7174-4fea-8741-40b30a50fd86');\n",
              "        const dataTable =\n",
              "          await google.colab.kernel.invokeFunction('convertToInteractive',\n",
              "                                                    [key], {});\n",
              "        if (!dataTable) return;\n",
              "\n",
              "        const docLinkHtml = 'Like what you see? Visit the ' +\n",
              "          '<a target=\"_blank\" href=https://colab.research.google.com/notebooks/data_table.ipynb>data table notebook</a>'\n",
              "          + ' to learn more about interactive tables.';\n",
              "        element.innerHTML = '';\n",
              "        dataTable['output_type'] = 'display_data';\n",
              "        await google.colab.output.renderOutput(dataTable, element);\n",
              "        const docLink = document.createElement('div');\n",
              "        docLink.innerHTML = docLinkHtml;\n",
              "        element.appendChild(docLink);\n",
              "      }\n",
              "    </script>\n",
              "  </div>\n",
              "\n",
              "\n",
              "<div id=\"df-0f4b4b05-766f-4521-9906-62f129c780ee\">\n",
              "  <button class=\"colab-df-quickchart\" onclick=\"quickchart('df-0f4b4b05-766f-4521-9906-62f129c780ee')\"\n",
              "            title=\"Suggest charts\"\n",
              "            style=\"display:none;\">\n",
              "\n",
              "<svg xmlns=\"http://www.w3.org/2000/svg\" height=\"24px\"viewBox=\"0 0 24 24\"\n",
              "     width=\"24px\">\n",
              "    <g>\n",
              "        <path d=\"M19 3H5c-1.1 0-2 .9-2 2v14c0 1.1.9 2 2 2h14c1.1 0 2-.9 2-2V5c0-1.1-.9-2-2-2zM9 17H7v-7h2v7zm4 0h-2V7h2v10zm4 0h-2v-4h2v4z\"/>\n",
              "    </g>\n",
              "</svg>\n",
              "  </button>\n",
              "\n",
              "<style>\n",
              "  .colab-df-quickchart {\n",
              "      --bg-color: #E8F0FE;\n",
              "      --fill-color: #1967D2;\n",
              "      --hover-bg-color: #E2EBFA;\n",
              "      --hover-fill-color: #174EA6;\n",
              "      --disabled-fill-color: #AAA;\n",
              "      --disabled-bg-color: #DDD;\n",
              "  }\n",
              "\n",
              "  [theme=dark] .colab-df-quickchart {\n",
              "      --bg-color: #3B4455;\n",
              "      --fill-color: #D2E3FC;\n",
              "      --hover-bg-color: #434B5C;\n",
              "      --hover-fill-color: #FFFFFF;\n",
              "      --disabled-bg-color: #3B4455;\n",
              "      --disabled-fill-color: #666;\n",
              "  }\n",
              "\n",
              "  .colab-df-quickchart {\n",
              "    background-color: var(--bg-color);\n",
              "    border: none;\n",
              "    border-radius: 50%;\n",
              "    cursor: pointer;\n",
              "    display: none;\n",
              "    fill: var(--fill-color);\n",
              "    height: 32px;\n",
              "    padding: 0;\n",
              "    width: 32px;\n",
              "  }\n",
              "\n",
              "  .colab-df-quickchart:hover {\n",
              "    background-color: var(--hover-bg-color);\n",
              "    box-shadow: 0 1px 2px rgba(60, 64, 67, 0.3), 0 1px 3px 1px rgba(60, 64, 67, 0.15);\n",
              "    fill: var(--button-hover-fill-color);\n",
              "  }\n",
              "\n",
              "  .colab-df-quickchart-complete:disabled,\n",
              "  .colab-df-quickchart-complete:disabled:hover {\n",
              "    background-color: var(--disabled-bg-color);\n",
              "    fill: var(--disabled-fill-color);\n",
              "    box-shadow: none;\n",
              "  }\n",
              "\n",
              "  .colab-df-spinner {\n",
              "    border: 2px solid var(--fill-color);\n",
              "    border-color: transparent;\n",
              "    border-bottom-color: var(--fill-color);\n",
              "    animation:\n",
              "      spin 1s steps(1) infinite;\n",
              "  }\n",
              "\n",
              "  @keyframes spin {\n",
              "    0% {\n",
              "      border-color: transparent;\n",
              "      border-bottom-color: var(--fill-color);\n",
              "      border-left-color: var(--fill-color);\n",
              "    }\n",
              "    20% {\n",
              "      border-color: transparent;\n",
              "      border-left-color: var(--fill-color);\n",
              "      border-top-color: var(--fill-color);\n",
              "    }\n",
              "    30% {\n",
              "      border-color: transparent;\n",
              "      border-left-color: var(--fill-color);\n",
              "      border-top-color: var(--fill-color);\n",
              "      border-right-color: var(--fill-color);\n",
              "    }\n",
              "    40% {\n",
              "      border-color: transparent;\n",
              "      border-right-color: var(--fill-color);\n",
              "      border-top-color: var(--fill-color);\n",
              "    }\n",
              "    60% {\n",
              "      border-color: transparent;\n",
              "      border-right-color: var(--fill-color);\n",
              "    }\n",
              "    80% {\n",
              "      border-color: transparent;\n",
              "      border-right-color: var(--fill-color);\n",
              "      border-bottom-color: var(--fill-color);\n",
              "    }\n",
              "    90% {\n",
              "      border-color: transparent;\n",
              "      border-bottom-color: var(--fill-color);\n",
              "    }\n",
              "  }\n",
              "</style>\n",
              "\n",
              "  <script>\n",
              "    async function quickchart(key) {\n",
              "      const quickchartButtonEl =\n",
              "        document.querySelector('#' + key + ' button');\n",
              "      quickchartButtonEl.disabled = true;  // To prevent multiple clicks.\n",
              "      quickchartButtonEl.classList.add('colab-df-spinner');\n",
              "      try {\n",
              "        const charts = await google.colab.kernel.invokeFunction(\n",
              "            'suggestCharts', [key], {});\n",
              "      } catch (error) {\n",
              "        console.error('Error during call to suggestCharts:', error);\n",
              "      }\n",
              "      quickchartButtonEl.classList.remove('colab-df-spinner');\n",
              "      quickchartButtonEl.classList.add('colab-df-quickchart-complete');\n",
              "    }\n",
              "    (() => {\n",
              "      let quickchartButtonEl =\n",
              "        document.querySelector('#df-0f4b4b05-766f-4521-9906-62f129c780ee button');\n",
              "      quickchartButtonEl.style.display =\n",
              "        google.colab.kernel.accessAllowed ? 'block' : 'none';\n",
              "    })();\n",
              "  </script>\n",
              "</div>\n",
              "\n",
              "    </div>\n",
              "  </div>\n"
            ],
            "application/vnd.google.colaboratory.intrinsic+json": {
              "type": "dataframe",
              "variable_name": "y",
              "summary": "{\n  \"name\": \"y\",\n  \"rows\": 10754,\n  \"fields\": [\n    {\n      \"column\": \"current_value\",\n      \"properties\": {\n        \"dtype\": \"number\",\n        \"std\": 9095409,\n        \"min\": 0,\n        \"max\": 180000000,\n        \"num_unique_values\": 128,\n        \"samples\": [\n          110000000,\n          7000000,\n          14000000\n        ],\n        \"semantic_type\": \"\",\n        \"description\": \"\"\n      }\n    }\n  ]\n}"
            }
          },
          "metadata": {},
          "execution_count": 31
        }
      ],
      "source": [
        "y.head()"
      ]
    },
    {
      "cell_type": "markdown",
      "metadata": {
        "id": "S5-hx8cH6s78"
      },
      "source": [
        "#### Evaluate\n",
        "There are many metrics for summarizing model quality, but we'll start with one called Mean Absolute Error (also called MAE)."
      ]
    },
    {
      "cell_type": "code",
      "execution_count": null,
      "metadata": {
        "colab": {
          "base_uri": "https://localhost:8080/"
        },
        "id": "cYhCDOsZ6s78",
        "outputId": "72226781-bb04-4b38-adb5-213b5babe063"
      },
      "outputs": [
        {
          "output_type": "stream",
          "name": "stdout",
          "text": [
            "MAE:\n",
            "2.3247163846010785\n"
          ]
        }
      ],
      "source": [
        "from sklearn.metrics import mean_absolute_error\n",
        "\n",
        "y_pred = mdlDtrplayers.predict(X)\n",
        "print('MAE:')\n",
        "print(mean_absolute_error(y,y_pred))"
      ]
    },
    {
      "cell_type": "markdown",
      "metadata": {
        "id": "lqvd8wS_6s78"
      },
      "source": [
        "We just conducted an in-sample score where training and testing model occurs from the same data set. It is not too accurate because we need to make our predictions based on the past data which is possible by an out-of-sample score. For this, we will split the data into a **Training set** and a **Test set** so that we can build the model on the Training data set and validate the model on the Test data set. So, the MAE value we get above would be changed. Hopefully for the better..."
      ]
    },
    {
      "cell_type": "markdown",
      "source": [
        "#### so called \"Perfect-fitting\""
      ],
      "metadata": {
        "id": "X6urjT96W6vO"
      }
    },
    {
      "cell_type": "markdown",
      "source": [
        "To prevent under and overfitting we need to decide on the percentages of the two sets(training and test) very carefully. Most of the time training set would be 80% and testing set would be 20% to have a good (maybe a perfect-fitting)model."
      ],
      "metadata": {
        "id": "9bB_iSLxWPKu"
      }
    },
    {
      "cell_type": "markdown",
      "metadata": {
        "id": "K6gfrJ2w6s79"
      },
      "source": [
        "![dt_7.png](data:image/png;base64,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)"
      ]
    },
    {
      "cell_type": "markdown",
      "source": [
        "**So Why Train Test Split?**\n",
        "Forcing the model to use all the data - assumes that it will be judged only on data points inside of it - which isn't true.  So, we have to let the model keep out some data points to check itself and improve for unseen data..."
      ],
      "metadata": {
        "id": "3z7PcHinblg3"
      }
    },
    {
      "cell_type": "code",
      "execution_count": null,
      "metadata": {
        "id": "O5A2o90E6s79"
      },
      "outputs": [],
      "source": [
        "from sklearn.model_selection import train_test_split\n",
        "\n",
        "# Split features and target into training and test sets\n",
        "X_train, X_test, y_train, y_test = train_test_split(X,y,train_size=0.8, test_size=0.2,random_state=1)"
      ]
    },
    {
      "cell_type": "code",
      "execution_count": null,
      "metadata": {
        "colab": {
          "base_uri": "https://localhost:8080/"
        },
        "id": "qcDlJWII6s7-",
        "outputId": "755e89d7-4414-4277-832e-a95a85b84ea8"
      },
      "outputs": [
        {
          "output_type": "stream",
          "name": "stdout",
          "text": [
            "MAE (after train-test-split):\n",
            "1352016.5039516503\n"
          ]
        }
      ],
      "source": [
        "# Rebuild model\n",
        "mdlDtrplayersSpl = DecisionTreeRegressor(random_state=1)\n",
        "mdlDtrplayersSpl.fit(X_train, y_train)\n",
        "\n",
        "# Predict test data\n",
        "y_test_pred = mdlDtrplayersSpl.predict(X_test)\n",
        "\n",
        "# Evaluate test data actual vs prediction\n",
        "print('MAE (after train-test-split):')\n",
        "print(mean_absolute_error(y_test,y_test_pred))"
      ]
    },
    {
      "cell_type": "markdown",
      "metadata": {
        "id": "JiHXYfG26s7-"
      },
      "source": [
        "# in-sample score = 2.32 (approx.)\n",
        "# out-of-sample score = 1352017 (approx)\n",
        "to improve the results (reduce the error) by trying out different model types."
      ]
    },
    {
      "cell_type": "markdown",
      "metadata": {
        "id": "sOSOkT0h6s7-"
      },
      "source": [
        "![utexas_ds_orie_divider_gray.png](data:image/png;base64,iVBORw0KGgoAAAANSUhEUgAAB0YAAAAKCAYAAAAgjz0QAAAAAXNSR0IArs4c6QAAAHhlWElmTU0AKgAAAAgABAEaAAUAAAABAAAAPgEbAAUAAAABAAAARgEoAAMAAAABAAIAAIdpAAQAAAABAAAATgAAAAAAAACWAAAAAQAAAJYAAAABAAOgAQADAAAAAQABAACgAgAEAAAAAQAAB0agAwAEAAAAAQAAAAoAAAAAoOuQ6gAAAAlwSFlzAAAXEgAAFxIBZ5/SUgAAAbBJREFUeAHt2bEVAiEURcHFsxyKMLU6jcyogQKsxzo01h6IEAqwgb9DQnwHsrdtDgECBAgQIECAAAECBAgQIECAAAECBAgQIECAAAECBIILpNVXa73knM/BW+URIECAAAECBAgQIECAAAECBAgQIECAAAECBAgQIHAwgd77u7X23Vd3KeU+r+vBDOQSIECAAAECBAgQIECAAAECBAgQIECAAAECBAgQIBBcYG6ht5n4OAXvlEeAAAECBAgQIECAAAECBAgQIECAAAECBAgQIECAAIHNMOoTECBAgAABAgQIECBAgAABAgQIECBAgAABAgQIECAQXsAwGv6JBRIgQIAAAQIECBAgQIAAAQIECBAgQIAAAQIECBAgYBj1BwgQIECAAAECBAgQIECAAAECBAgQIECAAAECBAgQCC9gGA3/xAIJECBAgAABAgQIECBAgAABAgQIECBAgAABAgQIENgXwRjjlVJ64iBAgAABAgQIECBAgAABAgQIECBAgAABAgQIECBAgEAkgbmDfiL1aCFAgAABAgQIECBAgAABAgQIECBAgAABAgQIECBAgMBfgR+MbQ+c2cysKQAAAABJRU5ErkJggg==)"
      ]
    },
    {
      "cell_type": "markdown",
      "metadata": {
        "id": "YMbiwqYk6s7-"
      },
      "source": [
        "## Improve Decision Tree Model\n",
        "There are many settings in a Decision Tree model that we can tweak.  The most important one is the tree's depth.  Let's see what happens when we tweak the max_leaf_nodes in the Decision Tree model."
      ]
    },
    {
      "cell_type": "code",
      "execution_count": null,
      "metadata": {
        "id": "yDH0ZbFP6s7-"
      },
      "outputs": [],
      "source": [
        "# Function to build and return MAE for a given number of max_leaf_nodes\n",
        "def get_mae(mx_lf_nds, X_trn, X_tst, y_trn, y_tst):\n",
        "    mdlDtrplayersDpt = DecisionTreeRegressor(max_leaf_nodes=mx_lf_nds, random_state=1)\n",
        "    mdlDtrplayersDpt.fit(X_trn,y_trn)\n",
        "    y_tst_prd = mdlDtrplayersDpt.predict(X_tst)\n",
        "    mae = mean_absolute_error(y_tst, y_tst_prd)\n",
        "    return(mae)"
      ]
    },
    {
      "cell_type": "code",
      "execution_count": null,
      "metadata": {
        "colab": {
          "base_uri": "https://localhost:8080/"
        },
        "id": "1SiQKklT6s7_",
        "outputId": "09e6fede-a839-4728-b9f8-a5177ec0fd02"
      },
      "outputs": [
        {
          "output_type": "stream",
          "name": "stdout",
          "text": [
            "Max leaf nodes:  5 \t Mean Absolute Error:  2478649.7854967955\n",
            "Max leaf nodes:  50 \t Mean Absolute Error:  1324532.4992672186\n",
            "Max leaf nodes:  500 \t Mean Absolute Error:  1278671.1404507312\n",
            "Max leaf nodes:  5000 \t Mean Absolute Error:  1315115.0627615063\n",
            "Max leaf nodes:  50000 \t Mean Absolute Error:  1315115.0627615063\n"
          ]
        }
      ],
      "source": [
        "# Iterate over a list of max_leaf_nodes to determine MAE across all\n",
        "for i in [5, 50, 500, 5000, 50000]:\n",
        "    mae = get_mae(i, X_train, X_test, y_train, y_test)\n",
        "    print('Max leaf nodes: ',i, '\\t Mean Absolute Error: ',mae)"
      ]
    },
    {
      "cell_type": "markdown",
      "metadata": {
        "id": "m6zcV3KI6s7_"
      },
      "source": [
        "The best depth of the tree is at 500 max leaf nodes."
      ]
    },
    {
      "cell_type": "markdown",
      "metadata": {
        "id": "01Y9mBif6s7_"
      },
      "source": [
        "Turns out that when we divide the players amongst many leaves, we also have fewer players in each leaf. Leaves with very few players will make predictions that are quite close to those players' actual values, but they may make very unreliable predictions for new data (because each prediction is based on only a few players). This is another example of *Overfitting*, where a model matches the training data almost perfectly, but does poorly in validation and other new data.\n",
        "\n",
        "On the flip side, if we make our tree very shallow, it doesn't divide up the players into very distinct groups.  At an extreme, if a tree divides players into only 2 or 4, each group still has a wide variety of players. Resulting predictions may be far off for most players, even in the training data (and it will be bad in validation too for the same reason). When a model fails to capture important distinctions and patterns in the data, so it performs poorly even in training data, that is another example of *Underfitting*.\n",
        "\n",
        "So, as mentioned earlier, we again want to find the sweet spot between underfitting and overfitting."
      ]
    },
    {
      "cell_type": "markdown",
      "metadata": {
        "id": "KiZWvWVR6s7_"
      },
      "source": [
        "WHITEBOARD >>"
      ]
    },
    {
      "cell_type": "markdown",
      "metadata": {
        "id": "-krCxztb6s7_"
      },
      "source": [
        "![dt_8.PNG](data:image/png;base64,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)"
      ]
    },
    {
      "cell_type": "markdown",
      "metadata": {
        "id": "PtAtY7KO6s8A"
      },
      "source": [
        "<< WHITEBOARD"
      ]
    },
    {
      "cell_type": "markdown",
      "metadata": {
        "id": "dWgwEsVG6s8A"
      },
      "source": [
        "## Build Ensemble Random Forest Model\n",
        "While the Decision Tree is simple, it is also not the most accurate because only a single tree is created and all future data points have to traverse the same tree.  What if we could generate more trees?"
      ]
    },
    {
      "cell_type": "markdown",
      "source": [
        "**So Why Random Forest?**\n",
        "Doesn't it make sense to talk to many realtors who have different experiences... and see if they all come to the same conclusion? Instead of speaking to one know-it-all?  This is the motivation for generating a random set of trees and bagging the results..."
      ],
      "metadata": {
        "id": "cnwhqD8jcVW2"
      }
    },
    {
      "cell_type": "markdown",
      "metadata": {
        "id": "F1HNW-Xp6s8A"
      },
      "source": [
        "Therefore, the **Random Forest** model uses many trees, and it makes a prediction by averaging the predictions of each component tree. It generally has much better predictive accuracy than a single decision tree and it works well with default parameters."
      ]
    },
    {
      "cell_type": "code",
      "execution_count": null,
      "metadata": {
        "colab": {
          "base_uri": "https://localhost:8080/"
        },
        "id": "jWYdhalc6s8B",
        "outputId": "d7eb81b6-8972-4ac2-b322-036572bf5cda"
      },
      "outputs": [
        {
          "output_type": "stream",
          "name": "stderr",
          "text": [
            "<ipython-input-38-11a00c2ce95e>:7: DataConversionWarning: A column-vector y was passed when a 1d array was expected. Please change the shape of y to (n_samples,), for example using ravel().\n",
            "  mdlRfsplayers.fit(X_train, y_train)\n"
          ]
        },
        {
          "output_type": "stream",
          "name": "stdout",
          "text": [
            "MAE (Random Forest):\n",
            "1018771.3679683869\n"
          ]
        }
      ],
      "source": [
        "from sklearn.ensemble import RandomForestRegressor\n",
        "\n",
        "# Define random forest model\n",
        "mdlRfsplayers = RandomForestRegressor(random_state=1)\n",
        "\n",
        "# Fit model\n",
        "mdlRfsplayers.fit(X_train, y_train)\n",
        "\n",
        "# Predict\n",
        "y_test_pred = mdlRfsplayers.predict(X_test)\n",
        "\n",
        "# Evaluate\n",
        "print('MAE (Random Forest):')\n",
        "print(mean_absolute_error(y_test,y_test_pred))"
      ]
    },
    {
      "cell_type": "markdown",
      "metadata": {
        "id": "6WDrfmjX6s8B"
      },
      "source": [
        "So, the Random Forest model reduces the MAE to 1018771 compared to 1278671 in the single Decision Tree model.  Thus ensembling multiple trees improves the result."
      ]
    }
  ],
  "metadata": {
    "kernelspec": {
      "display_name": "Python 3",
      "language": "python",
      "name": "python3"
    },
    "language_info": {
      "codemirror_mode": {
        "name": "ipython",
        "version": 3
      },
      "file_extension": ".py",
      "mimetype": "text/x-python",
      "name": "python",
      "nbconvert_exporter": "python",
      "pygments_lexer": "ipython3",
      "version": "3.7.1"
    },
    "colab": {
      "provenance": [],
      "include_colab_link": true
    }
  },
  "nbformat": 4,
  "nbformat_minor": 0
}