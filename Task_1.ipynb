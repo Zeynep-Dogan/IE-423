{
  "cells": [
    {
      "cell_type": "markdown",
      "metadata": {
        "id": "view-in-github",
        "colab_type": "text"
      },
      "source": [
        "<a href=\"https://colab.research.google.com/github/Zeynep-Dogan/IE-423/blob/main/Task_1.ipynb\" target=\"_parent\"><img src=\"https://colab.research.google.com/assets/colab-badge.svg\" alt=\"Open In Colab\"/></a>"
      ]
    },
    {
      "cell_type": "markdown",
      "metadata": {
        "id": "Doww1HcOyzj9"
      },
      "source": [
        "\n",
        "\n",
        "```\n",
        "```\n",
        "\n",
        "## <font color='#475468'> Football Players: </font>\n",
        "### <font color='#475468'> Can you predict current value of football players based on their player information?</font>"
      ]
    },
    {
      "cell_type": "markdown",
      "metadata": {
        "id": "-SsPuFDCyzj-"
      },
      "source": [
        "## Initialize"
      ]
    },
    {
      "cell_type": "code",
      "execution_count": null,
      "metadata": {
        "id": "T4JoLjKQyzj-"
      },
      "outputs": [],
      "source": [
        "import pandas as pd\n",
        "import numpy as np\n",
        "import matplotlib.pyplot as plt"
      ]
    },
    {
      "cell_type": "markdown",
      "metadata": {
        "id": "FyS0Vw98yzj_"
      },
      "source": [
        "## Load Data"
      ]
    },
    {
      "cell_type": "code",
      "source": [
        "from google.colab import drive\n",
        "drive.mount('/content/drive')"
      ],
      "metadata": {
        "colab": {
          "base_uri": "https://localhost:8080/"
        },
        "id": "eItHcjT81JxW",
        "outputId": "18a16301-05d1-4b1e-9ffa-45a8e564669f"
      },
      "execution_count": null,
      "outputs": [
        {
          "output_type": "stream",
          "name": "stdout",
          "text": [
            "Drive already mounted at /content/drive; to attempt to forcibly remount, call drive.mount(\"/content/drive\", force_remount=True).\n"
          ]
        }
      ]
    },
    {
      "cell_type": "code",
      "execution_count": null,
      "metadata": {
        "id": "FK9_VivSyzkA"
      },
      "outputs": [],
      "source": [
        "dfplayers = pd.read_csv('/content/drive/MyDrive/ie 423/task1-2_data.csv')"
      ]
    },
    {
      "cell_type": "code",
      "execution_count": null,
      "metadata": {
        "colab": {
          "base_uri": "https://localhost:8080/",
          "height": 394
        },
        "id": "BY1d_oc-yzkA",
        "outputId": "4c8f6566-897f-4d9d-ff37-a1e097fa689c"
      },
      "outputs": [
        {
          "output_type": "execute_result",
          "data": {
            "text/plain": [
              "                                     player               team  \\\n",
              "0        /david-de-gea/profil/spieler/59377  Manchester United   \n",
              "1       /jack-butland/profil/spieler/128899  Manchester United   \n",
              "2          /tom-heaton/profil/spieler/34130  Manchester United   \n",
              "3  /lisandro-martinez/profil/spieler/480762  Manchester United   \n",
              "4     /raphael-varane/profil/spieler/164770  Manchester United   \n",
              "\n",
              "                name              position  height   age  appearance  \\\n",
              "0       David de Gea            Goalkeeper   189.0  32.0         104   \n",
              "1       Jack Butland            Goalkeeper   196.0  30.0          15   \n",
              "2         Tom Heaton            Goalkeeper   188.0  37.0           4   \n",
              "3  Lisandro Martínez  Defender Centre-Back   175.0  25.0          82   \n",
              "4     Raphaël Varane  Defender Centre-Back   191.0  30.0          63   \n",
              "\n",
              "      goals   assists  yellow cards  ...  goals conceded  clean sheets  \\\n",
              "0  0.000000  0.000000      0.009585  ...        1.217252      0.335463   \n",
              "1  0.000000  0.000000      0.069018  ...        1.242331      0.207055   \n",
              "2  0.000000  0.000000      0.000000  ...        0.616438      0.924658   \n",
              "3  0.028090  0.056180      0.224719  ...        0.000000      0.000000   \n",
              "4  0.017889  0.017889      0.053667  ...        0.000000      0.000000   \n",
              "\n",
              "   minutes played  days_injured  games_injured  award  current_value  \\\n",
              "0            9390            42              5     13       15000000   \n",
              "1            1304           510             58      1        1500000   \n",
              "2             292           697             84      4         600000   \n",
              "3            6408           175             22      9       50000000   \n",
              "4            5031           238             51     21       40000000   \n",
              "\n",
              "   highest_value  position_encoded  winger  \n",
              "0       70000000                 1       0  \n",
              "1       22000000                 1       0  \n",
              "2        6000000                 1       0  \n",
              "3       50000000                 2       0  \n",
              "4       80000000                 2       0  \n",
              "\n",
              "[5 rows x 22 columns]"
            ],
            "text/html": [
              "\n",
              "  <div id=\"df-638926d7-d1f6-4c7a-9497-b2658438335a\" class=\"colab-df-container\">\n",
              "    <div>\n",
              "<style scoped>\n",
              "    .dataframe tbody tr th:only-of-type {\n",
              "        vertical-align: middle;\n",
              "    }\n",
              "\n",
              "    .dataframe tbody tr th {\n",
              "        vertical-align: top;\n",
              "    }\n",
              "\n",
              "    .dataframe thead th {\n",
              "        text-align: right;\n",
              "    }\n",
              "</style>\n",
              "<table border=\"1\" class=\"dataframe\">\n",
              "  <thead>\n",
              "    <tr style=\"text-align: right;\">\n",
              "      <th></th>\n",
              "      <th>player</th>\n",
              "      <th>team</th>\n",
              "      <th>name</th>\n",
              "      <th>position</th>\n",
              "      <th>height</th>\n",
              "      <th>age</th>\n",
              "      <th>appearance</th>\n",
              "      <th>goals</th>\n",
              "      <th>assists</th>\n",
              "      <th>yellow cards</th>\n",
              "      <th>...</th>\n",
              "      <th>goals conceded</th>\n",
              "      <th>clean sheets</th>\n",
              "      <th>minutes played</th>\n",
              "      <th>days_injured</th>\n",
              "      <th>games_injured</th>\n",
              "      <th>award</th>\n",
              "      <th>current_value</th>\n",
              "      <th>highest_value</th>\n",
              "      <th>position_encoded</th>\n",
              "      <th>winger</th>\n",
              "    </tr>\n",
              "  </thead>\n",
              "  <tbody>\n",
              "    <tr>\n",
              "      <th>0</th>\n",
              "      <td>/david-de-gea/profil/spieler/59377</td>\n",
              "      <td>Manchester United</td>\n",
              "      <td>David de Gea</td>\n",
              "      <td>Goalkeeper</td>\n",
              "      <td>189.0</td>\n",
              "      <td>32.0</td>\n",
              "      <td>104</td>\n",
              "      <td>0.000000</td>\n",
              "      <td>0.000000</td>\n",
              "      <td>0.009585</td>\n",
              "      <td>...</td>\n",
              "      <td>1.217252</td>\n",
              "      <td>0.335463</td>\n",
              "      <td>9390</td>\n",
              "      <td>42</td>\n",
              "      <td>5</td>\n",
              "      <td>13</td>\n",
              "      <td>15000000</td>\n",
              "      <td>70000000</td>\n",
              "      <td>1</td>\n",
              "      <td>0</td>\n",
              "    </tr>\n",
              "    <tr>\n",
              "      <th>1</th>\n",
              "      <td>/jack-butland/profil/spieler/128899</td>\n",
              "      <td>Manchester United</td>\n",
              "      <td>Jack Butland</td>\n",
              "      <td>Goalkeeper</td>\n",
              "      <td>196.0</td>\n",
              "      <td>30.0</td>\n",
              "      <td>15</td>\n",
              "      <td>0.000000</td>\n",
              "      <td>0.000000</td>\n",
              "      <td>0.069018</td>\n",
              "      <td>...</td>\n",
              "      <td>1.242331</td>\n",
              "      <td>0.207055</td>\n",
              "      <td>1304</td>\n",
              "      <td>510</td>\n",
              "      <td>58</td>\n",
              "      <td>1</td>\n",
              "      <td>1500000</td>\n",
              "      <td>22000000</td>\n",
              "      <td>1</td>\n",
              "      <td>0</td>\n",
              "    </tr>\n",
              "    <tr>\n",
              "      <th>2</th>\n",
              "      <td>/tom-heaton/profil/spieler/34130</td>\n",
              "      <td>Manchester United</td>\n",
              "      <td>Tom Heaton</td>\n",
              "      <td>Goalkeeper</td>\n",
              "      <td>188.0</td>\n",
              "      <td>37.0</td>\n",
              "      <td>4</td>\n",
              "      <td>0.000000</td>\n",
              "      <td>0.000000</td>\n",
              "      <td>0.000000</td>\n",
              "      <td>...</td>\n",
              "      <td>0.616438</td>\n",
              "      <td>0.924658</td>\n",
              "      <td>292</td>\n",
              "      <td>697</td>\n",
              "      <td>84</td>\n",
              "      <td>4</td>\n",
              "      <td>600000</td>\n",
              "      <td>6000000</td>\n",
              "      <td>1</td>\n",
              "      <td>0</td>\n",
              "    </tr>\n",
              "    <tr>\n",
              "      <th>3</th>\n",
              "      <td>/lisandro-martinez/profil/spieler/480762</td>\n",
              "      <td>Manchester United</td>\n",
              "      <td>Lisandro Martínez</td>\n",
              "      <td>Defender Centre-Back</td>\n",
              "      <td>175.0</td>\n",
              "      <td>25.0</td>\n",
              "      <td>82</td>\n",
              "      <td>0.028090</td>\n",
              "      <td>0.056180</td>\n",
              "      <td>0.224719</td>\n",
              "      <td>...</td>\n",
              "      <td>0.000000</td>\n",
              "      <td>0.000000</td>\n",
              "      <td>6408</td>\n",
              "      <td>175</td>\n",
              "      <td>22</td>\n",
              "      <td>9</td>\n",
              "      <td>50000000</td>\n",
              "      <td>50000000</td>\n",
              "      <td>2</td>\n",
              "      <td>0</td>\n",
              "    </tr>\n",
              "    <tr>\n",
              "      <th>4</th>\n",
              "      <td>/raphael-varane/profil/spieler/164770</td>\n",
              "      <td>Manchester United</td>\n",
              "      <td>Raphaël Varane</td>\n",
              "      <td>Defender Centre-Back</td>\n",
              "      <td>191.0</td>\n",
              "      <td>30.0</td>\n",
              "      <td>63</td>\n",
              "      <td>0.017889</td>\n",
              "      <td>0.017889</td>\n",
              "      <td>0.053667</td>\n",
              "      <td>...</td>\n",
              "      <td>0.000000</td>\n",
              "      <td>0.000000</td>\n",
              "      <td>5031</td>\n",
              "      <td>238</td>\n",
              "      <td>51</td>\n",
              "      <td>21</td>\n",
              "      <td>40000000</td>\n",
              "      <td>80000000</td>\n",
              "      <td>2</td>\n",
              "      <td>0</td>\n",
              "    </tr>\n",
              "  </tbody>\n",
              "</table>\n",
              "<p>5 rows × 22 columns</p>\n",
              "</div>\n",
              "    <div class=\"colab-df-buttons\">\n",
              "\n",
              "  <div class=\"colab-df-container\">\n",
              "    <button class=\"colab-df-convert\" onclick=\"convertToInteractive('df-638926d7-d1f6-4c7a-9497-b2658438335a')\"\n",
              "            title=\"Convert this dataframe to an interactive table.\"\n",
              "            style=\"display:none;\">\n",
              "\n",
              "  <svg xmlns=\"http://www.w3.org/2000/svg\" height=\"24px\" viewBox=\"0 -960 960 960\">\n",
              "    <path d=\"M120-120v-720h720v720H120Zm60-500h600v-160H180v160Zm220 220h160v-160H400v160Zm0 220h160v-160H400v160ZM180-400h160v-160H180v160Zm440 0h160v-160H620v160ZM180-180h160v-160H180v160Zm440 0h160v-160H620v160Z\"/>\n",
              "  </svg>\n",
              "    </button>\n",
              "\n",
              "  <style>\n",
              "    .colab-df-container {\n",
              "      display:flex;\n",
              "      gap: 12px;\n",
              "    }\n",
              "\n",
              "    .colab-df-convert {\n",
              "      background-color: #E8F0FE;\n",
              "      border: none;\n",
              "      border-radius: 50%;\n",
              "      cursor: pointer;\n",
              "      display: none;\n",
              "      fill: #1967D2;\n",
              "      height: 32px;\n",
              "      padding: 0 0 0 0;\n",
              "      width: 32px;\n",
              "    }\n",
              "\n",
              "    .colab-df-convert:hover {\n",
              "      background-color: #E2EBFA;\n",
              "      box-shadow: 0px 1px 2px rgba(60, 64, 67, 0.3), 0px 1px 3px 1px rgba(60, 64, 67, 0.15);\n",
              "      fill: #174EA6;\n",
              "    }\n",
              "\n",
              "    .colab-df-buttons div {\n",
              "      margin-bottom: 4px;\n",
              "    }\n",
              "\n",
              "    [theme=dark] .colab-df-convert {\n",
              "      background-color: #3B4455;\n",
              "      fill: #D2E3FC;\n",
              "    }\n",
              "\n",
              "    [theme=dark] .colab-df-convert:hover {\n",
              "      background-color: #434B5C;\n",
              "      box-shadow: 0px 1px 3px 1px rgba(0, 0, 0, 0.15);\n",
              "      filter: drop-shadow(0px 1px 2px rgba(0, 0, 0, 0.3));\n",
              "      fill: #FFFFFF;\n",
              "    }\n",
              "  </style>\n",
              "\n",
              "    <script>\n",
              "      const buttonEl =\n",
              "        document.querySelector('#df-638926d7-d1f6-4c7a-9497-b2658438335a button.colab-df-convert');\n",
              "      buttonEl.style.display =\n",
              "        google.colab.kernel.accessAllowed ? 'block' : 'none';\n",
              "\n",
              "      async function convertToInteractive(key) {\n",
              "        const element = document.querySelector('#df-638926d7-d1f6-4c7a-9497-b2658438335a');\n",
              "        const dataTable =\n",
              "          await google.colab.kernel.invokeFunction('convertToInteractive',\n",
              "                                                    [key], {});\n",
              "        if (!dataTable) return;\n",
              "\n",
              "        const docLinkHtml = 'Like what you see? Visit the ' +\n",
              "          '<a target=\"_blank\" href=https://colab.research.google.com/notebooks/data_table.ipynb>data table notebook</a>'\n",
              "          + ' to learn more about interactive tables.';\n",
              "        element.innerHTML = '';\n",
              "        dataTable['output_type'] = 'display_data';\n",
              "        await google.colab.output.renderOutput(dataTable, element);\n",
              "        const docLink = document.createElement('div');\n",
              "        docLink.innerHTML = docLinkHtml;\n",
              "        element.appendChild(docLink);\n",
              "      }\n",
              "    </script>\n",
              "  </div>\n",
              "\n",
              "\n",
              "<div id=\"df-ce392db6-80f7-40da-af9f-69aac23f270d\">\n",
              "  <button class=\"colab-df-quickchart\" onclick=\"quickchart('df-ce392db6-80f7-40da-af9f-69aac23f270d')\"\n",
              "            title=\"Suggest charts\"\n",
              "            style=\"display:none;\">\n",
              "\n",
              "<svg xmlns=\"http://www.w3.org/2000/svg\" height=\"24px\"viewBox=\"0 0 24 24\"\n",
              "     width=\"24px\">\n",
              "    <g>\n",
              "        <path d=\"M19 3H5c-1.1 0-2 .9-2 2v14c0 1.1.9 2 2 2h14c1.1 0 2-.9 2-2V5c0-1.1-.9-2-2-2zM9 17H7v-7h2v7zm4 0h-2V7h2v10zm4 0h-2v-4h2v4z\"/>\n",
              "    </g>\n",
              "</svg>\n",
              "  </button>\n",
              "\n",
              "<style>\n",
              "  .colab-df-quickchart {\n",
              "      --bg-color: #E8F0FE;\n",
              "      --fill-color: #1967D2;\n",
              "      --hover-bg-color: #E2EBFA;\n",
              "      --hover-fill-color: #174EA6;\n",
              "      --disabled-fill-color: #AAA;\n",
              "      --disabled-bg-color: #DDD;\n",
              "  }\n",
              "\n",
              "  [theme=dark] .colab-df-quickchart {\n",
              "      --bg-color: #3B4455;\n",
              "      --fill-color: #D2E3FC;\n",
              "      --hover-bg-color: #434B5C;\n",
              "      --hover-fill-color: #FFFFFF;\n",
              "      --disabled-bg-color: #3B4455;\n",
              "      --disabled-fill-color: #666;\n",
              "  }\n",
              "\n",
              "  .colab-df-quickchart {\n",
              "    background-color: var(--bg-color);\n",
              "    border: none;\n",
              "    border-radius: 50%;\n",
              "    cursor: pointer;\n",
              "    display: none;\n",
              "    fill: var(--fill-color);\n",
              "    height: 32px;\n",
              "    padding: 0;\n",
              "    width: 32px;\n",
              "  }\n",
              "\n",
              "  .colab-df-quickchart:hover {\n",
              "    background-color: var(--hover-bg-color);\n",
              "    box-shadow: 0 1px 2px rgba(60, 64, 67, 0.3), 0 1px 3px 1px rgba(60, 64, 67, 0.15);\n",
              "    fill: var(--button-hover-fill-color);\n",
              "  }\n",
              "\n",
              "  .colab-df-quickchart-complete:disabled,\n",
              "  .colab-df-quickchart-complete:disabled:hover {\n",
              "    background-color: var(--disabled-bg-color);\n",
              "    fill: var(--disabled-fill-color);\n",
              "    box-shadow: none;\n",
              "  }\n",
              "\n",
              "  .colab-df-spinner {\n",
              "    border: 2px solid var(--fill-color);\n",
              "    border-color: transparent;\n",
              "    border-bottom-color: var(--fill-color);\n",
              "    animation:\n",
              "      spin 1s steps(1) infinite;\n",
              "  }\n",
              "\n",
              "  @keyframes spin {\n",
              "    0% {\n",
              "      border-color: transparent;\n",
              "      border-bottom-color: var(--fill-color);\n",
              "      border-left-color: var(--fill-color);\n",
              "    }\n",
              "    20% {\n",
              "      border-color: transparent;\n",
              "      border-left-color: var(--fill-color);\n",
              "      border-top-color: var(--fill-color);\n",
              "    }\n",
              "    30% {\n",
              "      border-color: transparent;\n",
              "      border-left-color: var(--fill-color);\n",
              "      border-top-color: var(--fill-color);\n",
              "      border-right-color: var(--fill-color);\n",
              "    }\n",
              "    40% {\n",
              "      border-color: transparent;\n",
              "      border-right-color: var(--fill-color);\n",
              "      border-top-color: var(--fill-color);\n",
              "    }\n",
              "    60% {\n",
              "      border-color: transparent;\n",
              "      border-right-color: var(--fill-color);\n",
              "    }\n",
              "    80% {\n",
              "      border-color: transparent;\n",
              "      border-right-color: var(--fill-color);\n",
              "      border-bottom-color: var(--fill-color);\n",
              "    }\n",
              "    90% {\n",
              "      border-color: transparent;\n",
              "      border-bottom-color: var(--fill-color);\n",
              "    }\n",
              "  }\n",
              "</style>\n",
              "\n",
              "  <script>\n",
              "    async function quickchart(key) {\n",
              "      const quickchartButtonEl =\n",
              "        document.querySelector('#' + key + ' button');\n",
              "      quickchartButtonEl.disabled = true;  // To prevent multiple clicks.\n",
              "      quickchartButtonEl.classList.add('colab-df-spinner');\n",
              "      try {\n",
              "        const charts = await google.colab.kernel.invokeFunction(\n",
              "            'suggestCharts', [key], {});\n",
              "      } catch (error) {\n",
              "        console.error('Error during call to suggestCharts:', error);\n",
              "      }\n",
              "      quickchartButtonEl.classList.remove('colab-df-spinner');\n",
              "      quickchartButtonEl.classList.add('colab-df-quickchart-complete');\n",
              "    }\n",
              "    (() => {\n",
              "      let quickchartButtonEl =\n",
              "        document.querySelector('#df-ce392db6-80f7-40da-af9f-69aac23f270d button');\n",
              "      quickchartButtonEl.style.display =\n",
              "        google.colab.kernel.accessAllowed ? 'block' : 'none';\n",
              "    })();\n",
              "  </script>\n",
              "</div>\n",
              "\n",
              "    </div>\n",
              "  </div>\n"
            ],
            "application/vnd.google.colaboratory.intrinsic+json": {
              "type": "dataframe",
              "variable_name": "dfplayers"
            }
          },
          "metadata": {},
          "execution_count": 5
        }
      ],
      "source": [
        "dfplayers.head()"
      ]
    },
    {
      "cell_type": "code",
      "execution_count": null,
      "metadata": {
        "colab": {
          "base_uri": "https://localhost:8080/",
          "height": 496
        },
        "id": "MQL-w9x0yzkB",
        "outputId": "64b67cf0-c08a-4c86-a82e-6035ea8dc04c"
      },
      "outputs": [
        {
          "output_type": "execute_result",
          "data": {
            "text/plain": [
              "                                    player                  team      name  \\\n",
              "count                                10754                 10754     10754   \n",
              "unique                               10754                   374     10584   \n",
              "top     /david-de-gea/profil/spieler/59377  Daejeon Hana Citizen  Paulinho   \n",
              "freq                                     1                    46         6   \n",
              "mean                                   NaN                   NaN       NaN   \n",
              "std                                    NaN                   NaN       NaN   \n",
              "min                                    NaN                   NaN       NaN   \n",
              "25%                                    NaN                   NaN       NaN   \n",
              "50%                                    NaN                   NaN       NaN   \n",
              "75%                                    NaN                   NaN       NaN   \n",
              "max                                    NaN                   NaN       NaN   \n",
              "\n",
              "                    position        height           age    appearance  \\\n",
              "count                  10754  10754.000000  10754.000000  10754.000000   \n",
              "unique                    16           NaN           NaN           NaN   \n",
              "top     Defender Centre-Back           NaN           NaN           NaN   \n",
              "freq                    1821           NaN           NaN           NaN   \n",
              "mean                     NaN    181.240353     26.041903     36.407011   \n",
              "std                      NaN      6.969818      4.777629     26.526541   \n",
              "min                      NaN    156.000000     15.000000      0.000000   \n",
              "25%                      NaN    176.000000     22.000000     12.000000   \n",
              "50%                      NaN    181.240353     26.000000     35.000000   \n",
              "75%                      NaN    186.000000     29.000000     59.000000   \n",
              "max                      NaN    206.000000     43.000000    107.000000   \n",
              "\n",
              "               goals       assists  yellow cards  ...  goals conceded  \\\n",
              "count   10754.000000  10754.000000  10754.000000  ...    10754.000000   \n",
              "unique           NaN           NaN           NaN  ...             NaN   \n",
              "top              NaN           NaN           NaN  ...             NaN   \n",
              "freq             NaN           NaN           NaN  ...             NaN   \n",
              "mean        0.125554      0.086978      0.189757  ...        0.131655   \n",
              "std         0.235585      0.143351      0.432388  ...        0.442335   \n",
              "min         0.000000      0.000000      0.000000  ...        0.000000   \n",
              "25%         0.000000      0.000000      0.053191  ...        0.000000   \n",
              "50%         0.045969      0.040773      0.150250  ...        0.000000   \n",
              "75%         0.172263      0.133136      0.248276  ...        0.000000   \n",
              "max        11.250000      4.000000     30.000000  ...        9.000000   \n",
              "\n",
              "        clean sheets  minutes played  days_injured  games_injured  \\\n",
              "count   10754.000000    10754.000000  10754.000000   10754.000000   \n",
              "unique           NaN             NaN           NaN            NaN   \n",
              "top              NaN             NaN           NaN            NaN   \n",
              "freq             NaN             NaN           NaN            NaN   \n",
              "mean        0.044881     2470.789381    117.961689      15.826297   \n",
              "std         0.924437     2021.703271    175.206827      23.383606   \n",
              "min         0.000000        0.000000      0.000000       0.000000   \n",
              "25%         0.000000      660.000000      0.000000       0.000000   \n",
              "50%         0.000000     2101.500000     37.000000       5.000000   \n",
              "75%         0.000000     3968.000000    181.000000      24.000000   \n",
              "max        90.000000     9510.000000   2349.000000     339.000000   \n",
              "\n",
              "               award  current_value  highest_value  position_encoded  \\\n",
              "count   10754.000000   1.075400e+04   1.075400e+04      10754.000000   \n",
              "unique           NaN            NaN            NaN               NaN   \n",
              "top              NaN            NaN            NaN               NaN   \n",
              "freq             NaN            NaN            NaN               NaN   \n",
              "mean        1.960759   3.622971e+06   6.152606e+06          2.713223   \n",
              "std         3.743936   9.095410e+06   1.338988e+07          0.986356   \n",
              "min         0.000000   0.000000e+00   0.000000e+00          1.000000   \n",
              "25%         0.000000   3.000000e+05   4.500000e+05          2.000000   \n",
              "50%         1.000000   8.000000e+05   1.500000e+06          3.000000   \n",
              "75%         2.000000   3.000000e+06   5.000000e+06          4.000000   \n",
              "max        92.000000   1.800000e+08   2.000000e+08          4.000000   \n",
              "\n",
              "              winger  \n",
              "count   10754.000000  \n",
              "unique           NaN  \n",
              "top              NaN  \n",
              "freq             NaN  \n",
              "mean        0.307513  \n",
              "std         0.461485  \n",
              "min         0.000000  \n",
              "25%         0.000000  \n",
              "50%         0.000000  \n",
              "75%         1.000000  \n",
              "max         1.000000  \n",
              "\n",
              "[11 rows x 22 columns]"
            ],
            "text/html": [
              "\n",
              "  <div id=\"df-a25a203d-630a-4b6f-9e53-2eda81461e3a\" class=\"colab-df-container\">\n",
              "    <div>\n",
              "<style scoped>\n",
              "    .dataframe tbody tr th:only-of-type {\n",
              "        vertical-align: middle;\n",
              "    }\n",
              "\n",
              "    .dataframe tbody tr th {\n",
              "        vertical-align: top;\n",
              "    }\n",
              "\n",
              "    .dataframe thead th {\n",
              "        text-align: right;\n",
              "    }\n",
              "</style>\n",
              "<table border=\"1\" class=\"dataframe\">\n",
              "  <thead>\n",
              "    <tr style=\"text-align: right;\">\n",
              "      <th></th>\n",
              "      <th>player</th>\n",
              "      <th>team</th>\n",
              "      <th>name</th>\n",
              "      <th>position</th>\n",
              "      <th>height</th>\n",
              "      <th>age</th>\n",
              "      <th>appearance</th>\n",
              "      <th>goals</th>\n",
              "      <th>assists</th>\n",
              "      <th>yellow cards</th>\n",
              "      <th>...</th>\n",
              "      <th>goals conceded</th>\n",
              "      <th>clean sheets</th>\n",
              "      <th>minutes played</th>\n",
              "      <th>days_injured</th>\n",
              "      <th>games_injured</th>\n",
              "      <th>award</th>\n",
              "      <th>current_value</th>\n",
              "      <th>highest_value</th>\n",
              "      <th>position_encoded</th>\n",
              "      <th>winger</th>\n",
              "    </tr>\n",
              "  </thead>\n",
              "  <tbody>\n",
              "    <tr>\n",
              "      <th>count</th>\n",
              "      <td>10754</td>\n",
              "      <td>10754</td>\n",
              "      <td>10754</td>\n",
              "      <td>10754</td>\n",
              "      <td>10754.000000</td>\n",
              "      <td>10754.000000</td>\n",
              "      <td>10754.000000</td>\n",
              "      <td>10754.000000</td>\n",
              "      <td>10754.000000</td>\n",
              "      <td>10754.000000</td>\n",
              "      <td>...</td>\n",
              "      <td>10754.000000</td>\n",
              "      <td>10754.000000</td>\n",
              "      <td>10754.000000</td>\n",
              "      <td>10754.000000</td>\n",
              "      <td>10754.000000</td>\n",
              "      <td>10754.000000</td>\n",
              "      <td>1.075400e+04</td>\n",
              "      <td>1.075400e+04</td>\n",
              "      <td>10754.000000</td>\n",
              "      <td>10754.000000</td>\n",
              "    </tr>\n",
              "    <tr>\n",
              "      <th>unique</th>\n",
              "      <td>10754</td>\n",
              "      <td>374</td>\n",
              "      <td>10584</td>\n",
              "      <td>16</td>\n",
              "      <td>NaN</td>\n",
              "      <td>NaN</td>\n",
              "      <td>NaN</td>\n",
              "      <td>NaN</td>\n",
              "      <td>NaN</td>\n",
              "      <td>NaN</td>\n",
              "      <td>...</td>\n",
              "      <td>NaN</td>\n",
              "      <td>NaN</td>\n",
              "      <td>NaN</td>\n",
              "      <td>NaN</td>\n",
              "      <td>NaN</td>\n",
              "      <td>NaN</td>\n",
              "      <td>NaN</td>\n",
              "      <td>NaN</td>\n",
              "      <td>NaN</td>\n",
              "      <td>NaN</td>\n",
              "    </tr>\n",
              "    <tr>\n",
              "      <th>top</th>\n",
              "      <td>/david-de-gea/profil/spieler/59377</td>\n",
              "      <td>Daejeon Hana Citizen</td>\n",
              "      <td>Paulinho</td>\n",
              "      <td>Defender Centre-Back</td>\n",
              "      <td>NaN</td>\n",
              "      <td>NaN</td>\n",
              "      <td>NaN</td>\n",
              "      <td>NaN</td>\n",
              "      <td>NaN</td>\n",
              "      <td>NaN</td>\n",
              "      <td>...</td>\n",
              "      <td>NaN</td>\n",
              "      <td>NaN</td>\n",
              "      <td>NaN</td>\n",
              "      <td>NaN</td>\n",
              "      <td>NaN</td>\n",
              "      <td>NaN</td>\n",
              "      <td>NaN</td>\n",
              "      <td>NaN</td>\n",
              "      <td>NaN</td>\n",
              "      <td>NaN</td>\n",
              "    </tr>\n",
              "    <tr>\n",
              "      <th>freq</th>\n",
              "      <td>1</td>\n",
              "      <td>46</td>\n",
              "      <td>6</td>\n",
              "      <td>1821</td>\n",
              "      <td>NaN</td>\n",
              "      <td>NaN</td>\n",
              "      <td>NaN</td>\n",
              "      <td>NaN</td>\n",
              "      <td>NaN</td>\n",
              "      <td>NaN</td>\n",
              "      <td>...</td>\n",
              "      <td>NaN</td>\n",
              "      <td>NaN</td>\n",
              "      <td>NaN</td>\n",
              "      <td>NaN</td>\n",
              "      <td>NaN</td>\n",
              "      <td>NaN</td>\n",
              "      <td>NaN</td>\n",
              "      <td>NaN</td>\n",
              "      <td>NaN</td>\n",
              "      <td>NaN</td>\n",
              "    </tr>\n",
              "    <tr>\n",
              "      <th>mean</th>\n",
              "      <td>NaN</td>\n",
              "      <td>NaN</td>\n",
              "      <td>NaN</td>\n",
              "      <td>NaN</td>\n",
              "      <td>181.240353</td>\n",
              "      <td>26.041903</td>\n",
              "      <td>36.407011</td>\n",
              "      <td>0.125554</td>\n",
              "      <td>0.086978</td>\n",
              "      <td>0.189757</td>\n",
              "      <td>...</td>\n",
              "      <td>0.131655</td>\n",
              "      <td>0.044881</td>\n",
              "      <td>2470.789381</td>\n",
              "      <td>117.961689</td>\n",
              "      <td>15.826297</td>\n",
              "      <td>1.960759</td>\n",
              "      <td>3.622971e+06</td>\n",
              "      <td>6.152606e+06</td>\n",
              "      <td>2.713223</td>\n",
              "      <td>0.307513</td>\n",
              "    </tr>\n",
              "    <tr>\n",
              "      <th>std</th>\n",
              "      <td>NaN</td>\n",
              "      <td>NaN</td>\n",
              "      <td>NaN</td>\n",
              "      <td>NaN</td>\n",
              "      <td>6.969818</td>\n",
              "      <td>4.777629</td>\n",
              "      <td>26.526541</td>\n",
              "      <td>0.235585</td>\n",
              "      <td>0.143351</td>\n",
              "      <td>0.432388</td>\n",
              "      <td>...</td>\n",
              "      <td>0.442335</td>\n",
              "      <td>0.924437</td>\n",
              "      <td>2021.703271</td>\n",
              "      <td>175.206827</td>\n",
              "      <td>23.383606</td>\n",
              "      <td>3.743936</td>\n",
              "      <td>9.095410e+06</td>\n",
              "      <td>1.338988e+07</td>\n",
              "      <td>0.986356</td>\n",
              "      <td>0.461485</td>\n",
              "    </tr>\n",
              "    <tr>\n",
              "      <th>min</th>\n",
              "      <td>NaN</td>\n",
              "      <td>NaN</td>\n",
              "      <td>NaN</td>\n",
              "      <td>NaN</td>\n",
              "      <td>156.000000</td>\n",
              "      <td>15.000000</td>\n",
              "      <td>0.000000</td>\n",
              "      <td>0.000000</td>\n",
              "      <td>0.000000</td>\n",
              "      <td>0.000000</td>\n",
              "      <td>...</td>\n",
              "      <td>0.000000</td>\n",
              "      <td>0.000000</td>\n",
              "      <td>0.000000</td>\n",
              "      <td>0.000000</td>\n",
              "      <td>0.000000</td>\n",
              "      <td>0.000000</td>\n",
              "      <td>0.000000e+00</td>\n",
              "      <td>0.000000e+00</td>\n",
              "      <td>1.000000</td>\n",
              "      <td>0.000000</td>\n",
              "    </tr>\n",
              "    <tr>\n",
              "      <th>25%</th>\n",
              "      <td>NaN</td>\n",
              "      <td>NaN</td>\n",
              "      <td>NaN</td>\n",
              "      <td>NaN</td>\n",
              "      <td>176.000000</td>\n",
              "      <td>22.000000</td>\n",
              "      <td>12.000000</td>\n",
              "      <td>0.000000</td>\n",
              "      <td>0.000000</td>\n",
              "      <td>0.053191</td>\n",
              "      <td>...</td>\n",
              "      <td>0.000000</td>\n",
              "      <td>0.000000</td>\n",
              "      <td>660.000000</td>\n",
              "      <td>0.000000</td>\n",
              "      <td>0.000000</td>\n",
              "      <td>0.000000</td>\n",
              "      <td>3.000000e+05</td>\n",
              "      <td>4.500000e+05</td>\n",
              "      <td>2.000000</td>\n",
              "      <td>0.000000</td>\n",
              "    </tr>\n",
              "    <tr>\n",
              "      <th>50%</th>\n",
              "      <td>NaN</td>\n",
              "      <td>NaN</td>\n",
              "      <td>NaN</td>\n",
              "      <td>NaN</td>\n",
              "      <td>181.240353</td>\n",
              "      <td>26.000000</td>\n",
              "      <td>35.000000</td>\n",
              "      <td>0.045969</td>\n",
              "      <td>0.040773</td>\n",
              "      <td>0.150250</td>\n",
              "      <td>...</td>\n",
              "      <td>0.000000</td>\n",
              "      <td>0.000000</td>\n",
              "      <td>2101.500000</td>\n",
              "      <td>37.000000</td>\n",
              "      <td>5.000000</td>\n",
              "      <td>1.000000</td>\n",
              "      <td>8.000000e+05</td>\n",
              "      <td>1.500000e+06</td>\n",
              "      <td>3.000000</td>\n",
              "      <td>0.000000</td>\n",
              "    </tr>\n",
              "    <tr>\n",
              "      <th>75%</th>\n",
              "      <td>NaN</td>\n",
              "      <td>NaN</td>\n",
              "      <td>NaN</td>\n",
              "      <td>NaN</td>\n",
              "      <td>186.000000</td>\n",
              "      <td>29.000000</td>\n",
              "      <td>59.000000</td>\n",
              "      <td>0.172263</td>\n",
              "      <td>0.133136</td>\n",
              "      <td>0.248276</td>\n",
              "      <td>...</td>\n",
              "      <td>0.000000</td>\n",
              "      <td>0.000000</td>\n",
              "      <td>3968.000000</td>\n",
              "      <td>181.000000</td>\n",
              "      <td>24.000000</td>\n",
              "      <td>2.000000</td>\n",
              "      <td>3.000000e+06</td>\n",
              "      <td>5.000000e+06</td>\n",
              "      <td>4.000000</td>\n",
              "      <td>1.000000</td>\n",
              "    </tr>\n",
              "    <tr>\n",
              "      <th>max</th>\n",
              "      <td>NaN</td>\n",
              "      <td>NaN</td>\n",
              "      <td>NaN</td>\n",
              "      <td>NaN</td>\n",
              "      <td>206.000000</td>\n",
              "      <td>43.000000</td>\n",
              "      <td>107.000000</td>\n",
              "      <td>11.250000</td>\n",
              "      <td>4.000000</td>\n",
              "      <td>30.000000</td>\n",
              "      <td>...</td>\n",
              "      <td>9.000000</td>\n",
              "      <td>90.000000</td>\n",
              "      <td>9510.000000</td>\n",
              "      <td>2349.000000</td>\n",
              "      <td>339.000000</td>\n",
              "      <td>92.000000</td>\n",
              "      <td>1.800000e+08</td>\n",
              "      <td>2.000000e+08</td>\n",
              "      <td>4.000000</td>\n",
              "      <td>1.000000</td>\n",
              "    </tr>\n",
              "  </tbody>\n",
              "</table>\n",
              "<p>11 rows × 22 columns</p>\n",
              "</div>\n",
              "    <div class=\"colab-df-buttons\">\n",
              "\n",
              "  <div class=\"colab-df-container\">\n",
              "    <button class=\"colab-df-convert\" onclick=\"convertToInteractive('df-a25a203d-630a-4b6f-9e53-2eda81461e3a')\"\n",
              "            title=\"Convert this dataframe to an interactive table.\"\n",
              "            style=\"display:none;\">\n",
              "\n",
              "  <svg xmlns=\"http://www.w3.org/2000/svg\" height=\"24px\" viewBox=\"0 -960 960 960\">\n",
              "    <path d=\"M120-120v-720h720v720H120Zm60-500h600v-160H180v160Zm220 220h160v-160H400v160Zm0 220h160v-160H400v160ZM180-400h160v-160H180v160Zm440 0h160v-160H620v160ZM180-180h160v-160H180v160Zm440 0h160v-160H620v160Z\"/>\n",
              "  </svg>\n",
              "    </button>\n",
              "\n",
              "  <style>\n",
              "    .colab-df-container {\n",
              "      display:flex;\n",
              "      gap: 12px;\n",
              "    }\n",
              "\n",
              "    .colab-df-convert {\n",
              "      background-color: #E8F0FE;\n",
              "      border: none;\n",
              "      border-radius: 50%;\n",
              "      cursor: pointer;\n",
              "      display: none;\n",
              "      fill: #1967D2;\n",
              "      height: 32px;\n",
              "      padding: 0 0 0 0;\n",
              "      width: 32px;\n",
              "    }\n",
              "\n",
              "    .colab-df-convert:hover {\n",
              "      background-color: #E2EBFA;\n",
              "      box-shadow: 0px 1px 2px rgba(60, 64, 67, 0.3), 0px 1px 3px 1px rgba(60, 64, 67, 0.15);\n",
              "      fill: #174EA6;\n",
              "    }\n",
              "\n",
              "    .colab-df-buttons div {\n",
              "      margin-bottom: 4px;\n",
              "    }\n",
              "\n",
              "    [theme=dark] .colab-df-convert {\n",
              "      background-color: #3B4455;\n",
              "      fill: #D2E3FC;\n",
              "    }\n",
              "\n",
              "    [theme=dark] .colab-df-convert:hover {\n",
              "      background-color: #434B5C;\n",
              "      box-shadow: 0px 1px 3px 1px rgba(0, 0, 0, 0.15);\n",
              "      filter: drop-shadow(0px 1px 2px rgba(0, 0, 0, 0.3));\n",
              "      fill: #FFFFFF;\n",
              "    }\n",
              "  </style>\n",
              "\n",
              "    <script>\n",
              "      const buttonEl =\n",
              "        document.querySelector('#df-a25a203d-630a-4b6f-9e53-2eda81461e3a button.colab-df-convert');\n",
              "      buttonEl.style.display =\n",
              "        google.colab.kernel.accessAllowed ? 'block' : 'none';\n",
              "\n",
              "      async function convertToInteractive(key) {\n",
              "        const element = document.querySelector('#df-a25a203d-630a-4b6f-9e53-2eda81461e3a');\n",
              "        const dataTable =\n",
              "          await google.colab.kernel.invokeFunction('convertToInteractive',\n",
              "                                                    [key], {});\n",
              "        if (!dataTable) return;\n",
              "\n",
              "        const docLinkHtml = 'Like what you see? Visit the ' +\n",
              "          '<a target=\"_blank\" href=https://colab.research.google.com/notebooks/data_table.ipynb>data table notebook</a>'\n",
              "          + ' to learn more about interactive tables.';\n",
              "        element.innerHTML = '';\n",
              "        dataTable['output_type'] = 'display_data';\n",
              "        await google.colab.output.renderOutput(dataTable, element);\n",
              "        const docLink = document.createElement('div');\n",
              "        docLink.innerHTML = docLinkHtml;\n",
              "        element.appendChild(docLink);\n",
              "      }\n",
              "    </script>\n",
              "  </div>\n",
              "\n",
              "\n",
              "<div id=\"df-aa5d8483-78af-4d9f-b57c-4730483e5c13\">\n",
              "  <button class=\"colab-df-quickchart\" onclick=\"quickchart('df-aa5d8483-78af-4d9f-b57c-4730483e5c13')\"\n",
              "            title=\"Suggest charts\"\n",
              "            style=\"display:none;\">\n",
              "\n",
              "<svg xmlns=\"http://www.w3.org/2000/svg\" height=\"24px\"viewBox=\"0 0 24 24\"\n",
              "     width=\"24px\">\n",
              "    <g>\n",
              "        <path d=\"M19 3H5c-1.1 0-2 .9-2 2v14c0 1.1.9 2 2 2h14c1.1 0 2-.9 2-2V5c0-1.1-.9-2-2-2zM9 17H7v-7h2v7zm4 0h-2V7h2v10zm4 0h-2v-4h2v4z\"/>\n",
              "    </g>\n",
              "</svg>\n",
              "  </button>\n",
              "\n",
              "<style>\n",
              "  .colab-df-quickchart {\n",
              "      --bg-color: #E8F0FE;\n",
              "      --fill-color: #1967D2;\n",
              "      --hover-bg-color: #E2EBFA;\n",
              "      --hover-fill-color: #174EA6;\n",
              "      --disabled-fill-color: #AAA;\n",
              "      --disabled-bg-color: #DDD;\n",
              "  }\n",
              "\n",
              "  [theme=dark] .colab-df-quickchart {\n",
              "      --bg-color: #3B4455;\n",
              "      --fill-color: #D2E3FC;\n",
              "      --hover-bg-color: #434B5C;\n",
              "      --hover-fill-color: #FFFFFF;\n",
              "      --disabled-bg-color: #3B4455;\n",
              "      --disabled-fill-color: #666;\n",
              "  }\n",
              "\n",
              "  .colab-df-quickchart {\n",
              "    background-color: var(--bg-color);\n",
              "    border: none;\n",
              "    border-radius: 50%;\n",
              "    cursor: pointer;\n",
              "    display: none;\n",
              "    fill: var(--fill-color);\n",
              "    height: 32px;\n",
              "    padding: 0;\n",
              "    width: 32px;\n",
              "  }\n",
              "\n",
              "  .colab-df-quickchart:hover {\n",
              "    background-color: var(--hover-bg-color);\n",
              "    box-shadow: 0 1px 2px rgba(60, 64, 67, 0.3), 0 1px 3px 1px rgba(60, 64, 67, 0.15);\n",
              "    fill: var(--button-hover-fill-color);\n",
              "  }\n",
              "\n",
              "  .colab-df-quickchart-complete:disabled,\n",
              "  .colab-df-quickchart-complete:disabled:hover {\n",
              "    background-color: var(--disabled-bg-color);\n",
              "    fill: var(--disabled-fill-color);\n",
              "    box-shadow: none;\n",
              "  }\n",
              "\n",
              "  .colab-df-spinner {\n",
              "    border: 2px solid var(--fill-color);\n",
              "    border-color: transparent;\n",
              "    border-bottom-color: var(--fill-color);\n",
              "    animation:\n",
              "      spin 1s steps(1) infinite;\n",
              "  }\n",
              "\n",
              "  @keyframes spin {\n",
              "    0% {\n",
              "      border-color: transparent;\n",
              "      border-bottom-color: var(--fill-color);\n",
              "      border-left-color: var(--fill-color);\n",
              "    }\n",
              "    20% {\n",
              "      border-color: transparent;\n",
              "      border-left-color: var(--fill-color);\n",
              "      border-top-color: var(--fill-color);\n",
              "    }\n",
              "    30% {\n",
              "      border-color: transparent;\n",
              "      border-left-color: var(--fill-color);\n",
              "      border-top-color: var(--fill-color);\n",
              "      border-right-color: var(--fill-color);\n",
              "    }\n",
              "    40% {\n",
              "      border-color: transparent;\n",
              "      border-right-color: var(--fill-color);\n",
              "      border-top-color: var(--fill-color);\n",
              "    }\n",
              "    60% {\n",
              "      border-color: transparent;\n",
              "      border-right-color: var(--fill-color);\n",
              "    }\n",
              "    80% {\n",
              "      border-color: transparent;\n",
              "      border-right-color: var(--fill-color);\n",
              "      border-bottom-color: var(--fill-color);\n",
              "    }\n",
              "    90% {\n",
              "      border-color: transparent;\n",
              "      border-bottom-color: var(--fill-color);\n",
              "    }\n",
              "  }\n",
              "</style>\n",
              "\n",
              "  <script>\n",
              "    async function quickchart(key) {\n",
              "      const quickchartButtonEl =\n",
              "        document.querySelector('#' + key + ' button');\n",
              "      quickchartButtonEl.disabled = true;  // To prevent multiple clicks.\n",
              "      quickchartButtonEl.classList.add('colab-df-spinner');\n",
              "      try {\n",
              "        const charts = await google.colab.kernel.invokeFunction(\n",
              "            'suggestCharts', [key], {});\n",
              "      } catch (error) {\n",
              "        console.error('Error during call to suggestCharts:', error);\n",
              "      }\n",
              "      quickchartButtonEl.classList.remove('colab-df-spinner');\n",
              "      quickchartButtonEl.classList.add('colab-df-quickchart-complete');\n",
              "    }\n",
              "    (() => {\n",
              "      let quickchartButtonEl =\n",
              "        document.querySelector('#df-aa5d8483-78af-4d9f-b57c-4730483e5c13 button');\n",
              "      quickchartButtonEl.style.display =\n",
              "        google.colab.kernel.accessAllowed ? 'block' : 'none';\n",
              "    })();\n",
              "  </script>\n",
              "</div>\n",
              "\n",
              "    </div>\n",
              "  </div>\n"
            ],
            "application/vnd.google.colaboratory.intrinsic+json": {
              "type": "dataframe"
            }
          },
          "metadata": {},
          "execution_count": 6
        }
      ],
      "source": [
        "dfplayers.describe(include='all')"
      ]
    },
    {
      "cell_type": "markdown",
      "metadata": {
        "id": "lobknQmbyzkC"
      },
      "source": [
        "## Fit a Regression Model to Predict Current Value"
      ]
    },
    {
      "cell_type": "code",
      "execution_count": null,
      "metadata": {
        "id": "TXNmqKfyyzkC"
      },
      "outputs": [],
      "source": [
        "# Assign independent(Y) and dependent(X) variables\n",
        "X = dfplayers.loc[:,['age','award']]\n",
        "Y = dfplayers.loc[:,['current_value']]"
      ]
    },
    {
      "cell_type": "code",
      "execution_count": null,
      "metadata": {
        "colab": {
          "base_uri": "https://localhost:8080/",
          "height": 75
        },
        "id": "HQZUnI7-yzkC",
        "outputId": "3cecc932-1dfe-491b-e9ca-916f3bee4a8c"
      },
      "outputs": [
        {
          "output_type": "execute_result",
          "data": {
            "text/plain": [
              "LinearRegression()"
            ],
            "text/html": [
              "<style>#sk-container-id-1 {color: black;background-color: white;}#sk-container-id-1 pre{padding: 0;}#sk-container-id-1 div.sk-toggleable {background-color: white;}#sk-container-id-1 label.sk-toggleable__label {cursor: pointer;display: block;width: 100%;margin-bottom: 0;padding: 0.3em;box-sizing: border-box;text-align: center;}#sk-container-id-1 label.sk-toggleable__label-arrow:before {content: \"▸\";float: left;margin-right: 0.25em;color: #696969;}#sk-container-id-1 label.sk-toggleable__label-arrow:hover:before {color: black;}#sk-container-id-1 div.sk-estimator:hover label.sk-toggleable__label-arrow:before {color: black;}#sk-container-id-1 div.sk-toggleable__content {max-height: 0;max-width: 0;overflow: hidden;text-align: left;background-color: #f0f8ff;}#sk-container-id-1 div.sk-toggleable__content pre {margin: 0.2em;color: black;border-radius: 0.25em;background-color: #f0f8ff;}#sk-container-id-1 input.sk-toggleable__control:checked~div.sk-toggleable__content {max-height: 200px;max-width: 100%;overflow: auto;}#sk-container-id-1 input.sk-toggleable__control:checked~label.sk-toggleable__label-arrow:before {content: \"▾\";}#sk-container-id-1 div.sk-estimator input.sk-toggleable__control:checked~label.sk-toggleable__label {background-color: #d4ebff;}#sk-container-id-1 div.sk-label input.sk-toggleable__control:checked~label.sk-toggleable__label {background-color: #d4ebff;}#sk-container-id-1 input.sk-hidden--visually {border: 0;clip: rect(1px 1px 1px 1px);clip: rect(1px, 1px, 1px, 1px);height: 1px;margin: -1px;overflow: hidden;padding: 0;position: absolute;width: 1px;}#sk-container-id-1 div.sk-estimator {font-family: monospace;background-color: #f0f8ff;border: 1px dotted black;border-radius: 0.25em;box-sizing: border-box;margin-bottom: 0.5em;}#sk-container-id-1 div.sk-estimator:hover {background-color: #d4ebff;}#sk-container-id-1 div.sk-parallel-item::after {content: \"\";width: 100%;border-bottom: 1px solid gray;flex-grow: 1;}#sk-container-id-1 div.sk-label:hover label.sk-toggleable__label {background-color: #d4ebff;}#sk-container-id-1 div.sk-serial::before {content: \"\";position: absolute;border-left: 1px solid gray;box-sizing: border-box;top: 0;bottom: 0;left: 50%;z-index: 0;}#sk-container-id-1 div.sk-serial {display: flex;flex-direction: column;align-items: center;background-color: white;padding-right: 0.2em;padding-left: 0.2em;position: relative;}#sk-container-id-1 div.sk-item {position: relative;z-index: 1;}#sk-container-id-1 div.sk-parallel {display: flex;align-items: stretch;justify-content: center;background-color: white;position: relative;}#sk-container-id-1 div.sk-item::before, #sk-container-id-1 div.sk-parallel-item::before {content: \"\";position: absolute;border-left: 1px solid gray;box-sizing: border-box;top: 0;bottom: 0;left: 50%;z-index: -1;}#sk-container-id-1 div.sk-parallel-item {display: flex;flex-direction: column;z-index: 1;position: relative;background-color: white;}#sk-container-id-1 div.sk-parallel-item:first-child::after {align-self: flex-end;width: 50%;}#sk-container-id-1 div.sk-parallel-item:last-child::after {align-self: flex-start;width: 50%;}#sk-container-id-1 div.sk-parallel-item:only-child::after {width: 0;}#sk-container-id-1 div.sk-dashed-wrapped {border: 1px dashed gray;margin: 0 0.4em 0.5em 0.4em;box-sizing: border-box;padding-bottom: 0.4em;background-color: white;}#sk-container-id-1 div.sk-label label {font-family: monospace;font-weight: bold;display: inline-block;line-height: 1.2em;}#sk-container-id-1 div.sk-label-container {text-align: center;}#sk-container-id-1 div.sk-container {/* jupyter's `normalize.less` sets `[hidden] { display: none; }` but bootstrap.min.css set `[hidden] { display: none !important; }` so we also need the `!important` here to be able to override the default hidden behavior on the sphinx rendered scikit-learn.org. See: https://github.com/scikit-learn/scikit-learn/issues/21755 */display: inline-block !important;position: relative;}#sk-container-id-1 div.sk-text-repr-fallback {display: none;}</style><div id=\"sk-container-id-1\" class=\"sk-top-container\"><div class=\"sk-text-repr-fallback\"><pre>LinearRegression()</pre><b>In a Jupyter environment, please rerun this cell to show the HTML representation or trust the notebook. <br />On GitHub, the HTML representation is unable to render, please try loading this page with nbviewer.org.</b></div><div class=\"sk-container\" hidden><div class=\"sk-item\"><div class=\"sk-estimator sk-toggleable\"><input class=\"sk-toggleable__control sk-hidden--visually\" id=\"sk-estimator-id-1\" type=\"checkbox\" checked><label for=\"sk-estimator-id-1\" class=\"sk-toggleable__label sk-toggleable__label-arrow\">LinearRegression</label><div class=\"sk-toggleable__content\"><pre>LinearRegression()</pre></div></div></div></div></div>"
            ]
          },
          "metadata": {},
          "execution_count": 8
        }
      ],
      "source": [
        "# Fit linear regression model - aka train model\n",
        "from sklearn import linear_model\n",
        "regr = linear_model.LinearRegression()\n",
        "regr.fit(X, Y)"
      ]
    },
    {
      "cell_type": "code",
      "execution_count": null,
      "metadata": {
        "colab": {
          "base_uri": "https://localhost:8080/"
        },
        "id": "vwHSGWHHyzkD",
        "outputId": "61556391-015f-4db1-a6e6-cc54fd115f97"
      },
      "outputs": [
        {
          "output_type": "stream",
          "name": "stdout",
          "text": [
            "Intercept: \n",
            " [10977433.532875]\n",
            "Coefficients: \n",
            " [[-349573.95659803  892057.02140338]]\n"
          ]
        }
      ],
      "source": [
        "# Display regression model\n",
        "print('Intercept: \\n', regr.intercept_)\n",
        "print('Coefficients: \\n', regr.coef_)"
      ]
    },
    {
      "cell_type": "markdown",
      "source": [
        "when age and award is equal to '0' the player's current value is approximately $10977434. Age of the players affects the current value negatively while number of awards affects positively."
      ],
      "metadata": {
        "id": "NUSgxFSjeKQ_"
      }
    },
    {
      "cell_type": "code",
      "execution_count": null,
      "metadata": {
        "colab": {
          "base_uri": "https://localhost:8080/"
        },
        "id": "C_UAPiW0yzkD",
        "outputId": "db5f754d-dcdc-48fd-d770-4aa4127568b8"
      },
      "outputs": [
        {
          "output_type": "stream",
          "name": "stdout",
          "text": [
            "Predicted Recent Value of the Player: \n",
            " [[5685892.11496377]]\n"
          ]
        },
        {
          "output_type": "stream",
          "name": "stderr",
          "text": [
            "/usr/local/lib/python3.10/dist-packages/sklearn/base.py:439: UserWarning: X does not have valid feature names, but LinearRegression was fitted with feature names\n",
            "  warnings.warn(\n"
          ]
        }
      ],
      "source": [
        "# Generate new prediction - aka run scoring model\n",
        "new_age = 33\n",
        "new_award = 7\n",
        "print ('Predicted Recent Value of the Player: \\n', regr.predict([[new_age, new_award]]))"
      ]
    },
    {
      "cell_type": "markdown",
      "source": [
        "when the player is 33 years old and has 7 awards his current value is approximately $5685892"
      ],
      "metadata": {
        "id": "EQ2vdN0uetLF"
      }
    },
    {
      "cell_type": "markdown",
      "source": [
        "![utexas_ds_orie_divider_gray.png](data:image/png;base64,iVBORw0KGgoAAAANSUhEUgAAB0YAAAAKCAYAAAAgjz0QAAAAAXNSR0IArs4c6QAAAHhlWElmTU0AKgAAAAgABAEaAAUAAAABAAAAPgEbAAUAAAABAAAARgEoAAMAAAABAAIAAIdpAAQAAAABAAAATgAAAAAAAACWAAAAAQAAAJYAAAABAAOgAQADAAAAAQABAACgAgAEAAAAAQAAB0agAwAEAAAAAQAAAAoAAAAAoOuQ6gAAAAlwSFlzAAAXEgAAFxIBZ5/SUgAAAbBJREFUeAHt2bEVAiEURcHFsxyKMLU6jcyogQKsxzo01h6IEAqwgb9DQnwHsrdtDgECBAgQIECAAAECBAgQIECAAAECBAgQIECAAAECBIILpNVXa73knM/BW+URIECAAAECBAgQIECAAAECBAgQIECAAAECBAgQIHAwgd77u7X23Vd3KeU+r+vBDOQSIECAAAECBAgQIECAAAECBAgQIECAAAECBAgQIBBcYG6ht5n4OAXvlEeAAAECBAgQIECAAAECBAgQIECAAAECBAgQIECAAIHNMOoTECBAgAABAgQIECBAgAABAgQIECBAgAABAgQIECAQXsAwGv6JBRIgQIAAAQIECBAgQIAAAQIECBAgQIAAAQIECBAgYBj1BwgQIECAAAECBAgQIECAAAECBAgQIECAAAECBAgQCC9gGA3/xAIJECBAgAABAgQIECBAgAABAgQIECBAgAABAgQIENgXwRjjlVJ64iBAgAABAgQIECBAgAABAgQIECBAgAABAgQIECBAgEAkgbmDfiL1aCFAgAABAgQIECBAgAABAgQIECBAgAABAgQIECBAgMBfgR+MbQ+c2cysKQAAAABJRU5ErkJggg==)"
      ],
      "metadata": {
        "id": "VLLBLP877xQA"
      }
    },
    {
      "cell_type": "markdown",
      "metadata": {
        "id": "m9P8c1IvyzkE"
      },
      "source": [
        "## Explore Data"
      ]
    },
    {
      "cell_type": "markdown",
      "metadata": {
        "id": "snJaOpZXyzkH"
      },
      "source": [
        "#### Histogram of current values where the bins cover $10000000 increments"
      ]
    },
    {
      "cell_type": "code",
      "execution_count": null,
      "metadata": {
        "collapsed": true,
        "jupyter": {
          "outputs_hidden": true,
          "source_hidden": true
        },
        "colab": {
          "base_uri": "https://localhost:8080/",
          "height": 449
        },
        "id": "JIEz2mljyzkH",
        "outputId": "6cee3e31-cc78-4dd9-a518-9bf8b1e060f5"
      },
      "outputs": [
        {
          "output_type": "display_data",
          "data": {
            "text/plain": [
              "<Figure size 640x480 with 1 Axes>"
            ],
            "image/png": "[encoded data removed]"
          },
          "metadata": {}
        }
      ],
      "source": [
        "# Set data fields\n",
        "y = dfplayers.loc[:,'current_value']\n",
        "\n",
        "# Set histogram parameters\n",
        "binwidth = 10000000\n",
        "binrange=np.arange(min(y), max(y) + binwidth, binwidth)\n",
        "\n",
        "# Show plot\n",
        "plt.hist(y, bins=binrange)\n",
        "plt.xlabel('Current Value')\n",
        "plt.ylabel('# of players')\n",
        "plt.show()"
      ]
    },
    {
      "cell_type": "markdown",
      "metadata": {
        "jupyter": {
          "source_hidden": true
        },
        "id": "fMUEaaCAyzkH"
      },
      "source": [
        "The distribution of values is skewed right and peak of the graph is at x=0. The long tail indicates both the possibility and rarity of the values. So, when these are considered the data fits to Chi-square distribution."
      ]
    },
    {
      "cell_type": "markdown",
      "metadata": {
        "jupyter": {
          "source_hidden": true
        },
        "id": "yD7vulMsyzkI"
      },
      "source": [
        "#### Histogram of current values where the bins cover $1000000 increments"
      ]
    },
    {
      "cell_type": "code",
      "execution_count": null,
      "metadata": {
        "collapsed": true,
        "jupyter": {
          "outputs_hidden": true,
          "source_hidden": true
        },
        "colab": {
          "base_uri": "https://localhost:8080/",
          "height": 455
        },
        "id": "HR5pYjEvyzkI",
        "outputId": "dcc4c3da-9d7c-498f-98ab-3bb96ade7907"
      },
      "outputs": [
        {
          "output_type": "display_data",
          "data": {
            "text/plain": [
              "<Figure size 640x480 with 1 Axes>"
            ],
            "image/png": "[encoded data removed]"
          },
          "metadata": {}
        }
      ],
      "source": [
        "# Set data fields\n",
        "y = dfplayers.loc[:,'current_value']\n",
        "\n",
        "# Set histogram parameters\n",
        "binwidth = 1000000\n",
        "\n",
        "binrange=np.arange(min(y), max(y) + binwidth, binwidth)\n",
        "\n",
        "# Show plot\n",
        "plt.hist(y, bins=binrange)\n",
        "plt.xlabel('Current Value')\n",
        "plt.ylabel('# of players')\n",
        "plt.ylim(0, 1000)\n",
        "plt.show()"
      ]
    },
    {
      "cell_type": "markdown",
      "metadata": {
        "jupyter": {
          "source_hidden": true
        },
        "id": "4GZLD7qwyzkI"
      },
      "source": [
        "The graph looks like F-distribution with dof (1,1). It is heavily right-skewed where it is the highest when x is zero and goes to zero while x increase. Since the right tail of the distribution is very long, we can say that larger values are possible but less likely."
      ]
    },
    {
      "cell_type": "markdown",
      "metadata": {
        "jupyter": {
          "source_hidden": true
        },
        "id": "66VxcxaDyzkI"
      },
      "source": [
        "#### Scatterplot of appearance vs. current value of the players"
      ]
    },
    {
      "cell_type": "code",
      "execution_count": null,
      "metadata": {
        "collapsed": true,
        "jupyter": {
          "outputs_hidden": true,
          "source_hidden": true
        },
        "colab": {
          "base_uri": "https://localhost:8080/",
          "height": 465
        },
        "id": "yTT1dIuHyzkI",
        "outputId": "00637d61-6fe0-45e8-e7f4-3dae9c4b7195"
      },
      "outputs": [
        {
          "output_type": "display_data",
          "data": {
            "text/plain": [
              "<Figure size 640x480 with 1 Axes>"
            ],
            "image/png": "[encoded data removed]"
          },
          "metadata": {}
        }
      ],
      "source": [
        "# Set data fields\n",
        "x = dfplayers.loc[:,'appearance']\n",
        "y = dfplayers.loc[:,'current_value']\n",
        "\n",
        "# Generate trendline\n",
        "z = np.polyfit(x, y, 1)\n",
        "p = np.poly1d(z)\n",
        "\n",
        "# Show plot\n",
        "plt.scatter(x, y)\n",
        "plt.plot(x,p(x),\"r--\")\n",
        "plt.xlim(0,np.max(dfplayers.loc[:,'appearance'])+5)\n",
        "plt.ylim(0,30000000)\n",
        "plt.xlabel('Total appearance of the player')\n",
        "plt.ylabel('Current value of the player')\n",
        "plt.show()"
      ]
    },
    {
      "cell_type": "markdown",
      "metadata": {
        "jupyter": {
          "source_hidden": true
        },
        "id": "9Zpc5OuOyzkJ"
      },
      "source": [
        "Points below the line correspond to current values of the players (according to their total appearance) that are lower than expected, and points above the line are higher than expected. The correlation between number of appearances and current value of the players is positive. The number of appearances of the players is highly concentrated between 0 and 90. There are some outliers such that a player has approximetely 20 appearance and his expected current value is less than $$2500000. However, he has a current value of approximately $25000000."
      ]
    },
    {
      "cell_type": "code",
      "execution_count": null,
      "metadata": {
        "id": "l_narOjjtX_I"
      },
      "outputs": [],
      "source": [
        "# Assign independent(Y) and dependent(X) variables\n",
        "X = dfplayers.loc[:,['appearance']]\n",
        "Y = dfplayers.loc[:,['current_value']]"
      ]
    },
    {
      "cell_type": "code",
      "execution_count": null,
      "metadata": {
        "colab": {
          "base_uri": "https://localhost:8080/",
          "height": 75
        },
        "outputId": "3927e451-892e-4a2b-a995-f4aed8d8620e",
        "id": "B21YcdpctjEK"
      },
      "outputs": [
        {
          "output_type": "execute_result",
          "data": {
            "text/plain": [
              "LinearRegression()"
            ],
            "text/html": [
              "<style>#sk-container-id-4 {color: black;background-color: white;}#sk-container-id-4 pre{padding: 0;}#sk-container-id-4 div.sk-toggleable {background-color: white;}#sk-container-id-4 label.sk-toggleable__label {cursor: pointer;display: block;width: 100%;margin-bottom: 0;padding: 0.3em;box-sizing: border-box;text-align: center;}#sk-container-id-4 label.sk-toggleable__label-arrow:before {content: \"▸\";float: left;margin-right: 0.25em;color: #696969;}#sk-container-id-4 label.sk-toggleable__label-arrow:hover:before {color: black;}#sk-container-id-4 div.sk-estimator:hover label.sk-toggleable__label-arrow:before {color: black;}#sk-container-id-4 div.sk-toggleable__content {max-height: 0;max-width: 0;overflow: hidden;text-align: left;background-color: #f0f8ff;}#sk-container-id-4 div.sk-toggleable__content pre {margin: 0.2em;color: black;border-radius: 0.25em;background-color: #f0f8ff;}#sk-container-id-4 input.sk-toggleable__control:checked~div.sk-toggleable__content {max-height: 200px;max-width: 100%;overflow: auto;}#sk-container-id-4 input.sk-toggleable__control:checked~label.sk-toggleable__label-arrow:before {content: \"▾\";}#sk-container-id-4 div.sk-estimator input.sk-toggleable__control:checked~label.sk-toggleable__label {background-color: #d4ebff;}#sk-container-id-4 div.sk-label input.sk-toggleable__control:checked~label.sk-toggleable__label {background-color: #d4ebff;}#sk-container-id-4 input.sk-hidden--visually {border: 0;clip: rect(1px 1px 1px 1px);clip: rect(1px, 1px, 1px, 1px);height: 1px;margin: -1px;overflow: hidden;padding: 0;position: absolute;width: 1px;}#sk-container-id-4 div.sk-estimator {font-family: monospace;background-color: #f0f8ff;border: 1px dotted black;border-radius: 0.25em;box-sizing: border-box;margin-bottom: 0.5em;}#sk-container-id-4 div.sk-estimator:hover {background-color: #d4ebff;}#sk-container-id-4 div.sk-parallel-item::after {content: \"\";width: 100%;border-bottom: 1px solid gray;flex-grow: 1;}#sk-container-id-4 div.sk-label:hover label.sk-toggleable__label {background-color: #d4ebff;}#sk-container-id-4 div.sk-serial::before {content: \"\";position: absolute;border-left: 1px solid gray;box-sizing: border-box;top: 0;bottom: 0;left: 50%;z-index: 0;}#sk-container-id-4 div.sk-serial {display: flex;flex-direction: column;align-items: center;background-color: white;padding-right: 0.2em;padding-left: 0.2em;position: relative;}#sk-container-id-4 div.sk-item {position: relative;z-index: 1;}#sk-container-id-4 div.sk-parallel {display: flex;align-items: stretch;justify-content: center;background-color: white;position: relative;}#sk-container-id-4 div.sk-item::before, #sk-container-id-4 div.sk-parallel-item::before {content: \"\";position: absolute;border-left: 1px solid gray;box-sizing: border-box;top: 0;bottom: 0;left: 50%;z-index: -1;}#sk-container-id-4 div.sk-parallel-item {display: flex;flex-direction: column;z-index: 1;position: relative;background-color: white;}#sk-container-id-4 div.sk-parallel-item:first-child::after {align-self: flex-end;width: 50%;}#sk-container-id-4 div.sk-parallel-item:last-child::after {align-self: flex-start;width: 50%;}#sk-container-id-4 div.sk-parallel-item:only-child::after {width: 0;}#sk-container-id-4 div.sk-dashed-wrapped {border: 1px dashed gray;margin: 0 0.4em 0.5em 0.4em;box-sizing: border-box;padding-bottom: 0.4em;background-color: white;}#sk-container-id-4 div.sk-label label {font-family: monospace;font-weight: bold;display: inline-block;line-height: 1.2em;}#sk-container-id-4 div.sk-label-container {text-align: center;}#sk-container-id-4 div.sk-container {/* jupyter's `normalize.less` sets `[hidden] { display: none; }` but bootstrap.min.css set `[hidden] { display: none !important; }` so we also need the `!important` here to be able to override the default hidden behavior on the sphinx rendered scikit-learn.org. See: https://github.com/scikit-learn/scikit-learn/issues/21755 */display: inline-block !important;position: relative;}#sk-container-id-4 div.sk-text-repr-fallback {display: none;}</style><div id=\"sk-container-id-4\" class=\"sk-top-container\"><div class=\"sk-text-repr-fallback\"><pre>LinearRegression()</pre><b>In a Jupyter environment, please rerun this cell to show the HTML representation or trust the notebook. <br />On GitHub, the HTML representation is unable to render, please try loading this page with nbviewer.org.</b></div><div class=\"sk-container\" hidden><div class=\"sk-item\"><div class=\"sk-estimator sk-toggleable\"><input class=\"sk-toggleable__control sk-hidden--visually\" id=\"sk-estimator-id-4\" type=\"checkbox\" checked><label for=\"sk-estimator-id-4\" class=\"sk-toggleable__label sk-toggleable__label-arrow\">LinearRegression</label><div class=\"sk-toggleable__content\"><pre>LinearRegression()</pre></div></div></div></div></div>"
            ]
          },
          "metadata": {},
          "execution_count": 90
        }
      ],
      "source": [
        "# Fit linear regression model - aka train model\n",
        "from sklearn import linear_model\n",
        "regr = linear_model.LinearRegression()\n",
        "regr.fit(X, Y)"
      ]
    },
    {
      "cell_type": "code",
      "execution_count": null,
      "metadata": {
        "colab": {
          "base_uri": "https://localhost:8080/"
        },
        "outputId": "1be53e6a-bac4-49c5-f39b-245f55bb926a",
        "id": "WVL7DEfFtjEK"
      },
      "outputs": [
        {
          "output_type": "stream",
          "name": "stdout",
          "text": [
            "Intercept: \n",
            " [-1615688.18096391]\n",
            "Coefficients: \n",
            " [[143891.49163924]]\n"
          ]
        }
      ],
      "source": [
        "# Display regression model\n",
        "print('Intercept: \\n', regr.intercept_)\n",
        "print('Coefficients: \\n', regr.coef_)"
      ]
    },
    {
      "cell_type": "markdown",
      "source": [
        "As we can both see in scatterplot and through the interception of regression when the number of appearances is approx. less than 13 the current value becomes negative which is not logical."
      ],
      "metadata": {
        "id": "ZCZCtd-Rt8Ml"
      }
    },
    {
      "cell_type": "markdown",
      "metadata": {
        "jupyter": {
          "source_hidden": true
        },
        "id": "6Ftt4x3NyzkJ"
      },
      "source": [
        "#### Scatterplot of assists vs. current value of players separated by player's position"
      ]
    },
    {
      "cell_type": "code",
      "source": [
        "fig, axs = plt.subplots(2, 2)\n",
        "\n",
        "# position = goalkeeper assist vs. current value graph\n",
        "x = dfplayers.loc[(dfplayers['position_encoded']==1),'assists']\n",
        "y = dfplayers.loc[(dfplayers['position_encoded']==1),'current_value']\n",
        "\n",
        "axs[0, 0].scatter(x,y)\n",
        "axs[0, 0].plot(x,p(x),\"r--\")\n",
        "axs[0, 0].set_xlim(-2,np.max(2))\n",
        "axs[0, 0].set_ylim(0,np.max(100000000))\n",
        "axs[0, 0].set_xlabel('Position = Goal keeper')\n",
        "axs[0, 0].xaxis.set_label_position(\"top\")\n",
        "\n",
        "# position = defender assist vs. current value graph\n",
        "x = dfplayers.loc[(dfplayers['position_encoded']==2),'assists']\n",
        "y = dfplayers.loc[(dfplayers['position_encoded']==2),'current_value']\n",
        "z = np.polyfit(x, y, 1)\n",
        "p = np.poly1d(z)\n",
        "\n",
        "axs[0, 1].scatter(x,y)\n",
        "axs[0, 1].plot(x,p(x),\"r--\")\n",
        "axs[0, 1].set_xlim(0,np.max(dfplayers.loc[:,'assists']))\n",
        "axs[0, 1].set_ylim(0,np.max(100000000))\n",
        "axs[0, 1].set_xlabel('Position = Defender')\n",
        "axs[0, 1].xaxis.set_label_position(\"top\")\n",
        "\n",
        "# position = midfield assist vs. current value graph\n",
        "x = dfplayers.loc[(dfplayers['position_encoded']==3),'assists']\n",
        "y = dfplayers.loc[(dfplayers['position_encoded']==3),'current_value']\n",
        "z = np.polyfit(x, y, 1)\n",
        "p = np.poly1d(z)\n",
        "\n",
        "axs[1, 0].scatter(x,y)\n",
        "axs[1, 0].plot(x,p(x),\"r--\")\n",
        "axs[1, 0].set_xlim(0,np.max(dfplayers.loc[:,'assists']))\n",
        "axs[1, 0].set_ylim(0,np.max(150000000))\n",
        "axs[1, 0].set_xlabel('Position = Midfield')\n",
        "\n",
        "# position = attack assist vs. current value graph\n",
        "x = dfplayers.loc[(dfplayers['position_encoded']==4),'assists']\n",
        "y = dfplayers.loc[(dfplayers['position_encoded']==4),'current_value']\n",
        "z = np.polyfit(x, y, 1)\n",
        "p = np.poly1d(z)\n",
        "\n",
        "axs[1, 1].scatter(x,y)\n",
        "axs[1, 1].plot(x,p(x),\"r--\")\n",
        "axs[1, 1].set_xlim(0,np.max(3.5))\n",
        "axs[1, 1].set_ylim(0,np.max(dfplayers.loc[:,'current_value']))\n",
        "axs[1, 1].set_xlabel('Position = Attack')\n",
        "axs[1, 1].yaxis.set_label_position(\"right\")\n"
      ],
      "metadata": {
        "colab": {
          "base_uri": "https://localhost:8080/",
          "height": 466
        },
        "id": "usf9hHL1yy-e",
        "outputId": "2aceab35-64ac-4f6c-a41d-826c108f2305"
      },
      "execution_count": null,
      "outputs": [
        {
          "output_type": "display_data",
          "data": {
            "text/plain": [
              "<Figure size 640x480 with 4 Axes>"
            ],
            "image/png": "[encoded data removed]"
          },
          "metadata": {}
        }
      ]
    },
    {
      "cell_type": "markdown",
      "metadata": {
        "jupyter": {
          "source_hidden": true
        },
        "id": "Kp0etNGtyzkK"
      },
      "source": [
        "Plots indicates that all of the goal keepers has a number of assists = 0 where the attack players has the most assists on average. We can also say that the attack players tend to have higher current values among the four groups while goal keepers have the least."
      ]
    }
  ],
  "metadata": {
    "kernelspec": {
      "display_name": "Python 3",
      "language": "python",
      "name": "python3"
    },
    "language_info": {
      "codemirror_mode": {
        "name": "ipython",
        "version": 3
      },
      "file_extension": ".py",
      "mimetype": "text/x-python",
      "name": "python",
      "nbconvert_exporter": "python",
      "pygments_lexer": "ipython3",
      "version": "3.7.1"
    },
    "colab": {
      "provenance": [],
      "include_colab_link": true
    }
  },
  "nbformat": 4,
  "nbformat_minor": 0
}